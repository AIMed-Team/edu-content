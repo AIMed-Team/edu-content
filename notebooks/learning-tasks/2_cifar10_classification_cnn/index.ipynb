{
  "cells": [
    {
      "cell_type": "markdown",
      "metadata": {
        "id": "vTHnJUn1h_g-"
      },
      "source": [
        "In this task, you should train a CNN model with pytorch to classify CIFAR10 dataset."
      ]
    },
    {
      "cell_type": "markdown",
      "metadata": {
        "id": "KbAlALZI42rj"
      },
      "source": [
        "# Load the dataset\n",
        "\n",
        "Load the CIFAR10 dataset bellow. You can use either `torchvision.datasets.CIFAR10` or `sklearn.datasets.fetch_openml()` or any other way to load the dataset."
      ]
    },
    {
      "cell_type": "code",
      "execution_count": null,
      "metadata": {
        "id": "lyD0kflMiLUI"
      },
      "outputs": [],
      "source": [
        ""
      ]
    },
    {
      "cell_type": "markdown",
      "metadata": {
        "id": "6QS8RAKf5Am9"
      },
      "source": [
        "# Design your model\n",
        "\n",
        "Write your CNN model below using `torch.nn` modules. Feel free to add extra cells."
      ]
    },
    {
      "cell_type": "code",
      "execution_count": null,
      "metadata": {
        "id": "Djr3I9TVy7fV"
      },
      "outputs": [],
      "source": [
        ""
      ]
    },
    {
      "cell_type": "markdown",
      "metadata": {
        "id": "bn1JazTM5LUX"
      },
      "source": [
        "# Train your model\n",
        "\n",
        "Write the training process below. Instantiate your model, Create an optimizer function such as Adam or SGD, and write your train/validation loop. Then train your model until it converges. Feel free to add extra cells."
      ]
    },
    {
      "cell_type": "code",
      "execution_count": null,
      "metadata": {
        "id": "k9bwFLt00tyZ"
      },
      "outputs": [],
      "source": [
        ""
      ]
    },
    {
      "cell_type": "markdown",
      "metadata": {
        "id": "z2jTsGQY5jUQ"
      },
      "source": [
        "# Draw the training curves\n",
        "\n",
        "Draw two diagrams for train and validat\n",
        "ion, one showing loss of each epoch, and another showing accuracy of each epoch."
      ]
    },
    {
      "cell_type": "code",
      "execution_count": null,
      "metadata": {
        "id": "07HK4m6n5mb1"
      },
      "outputs": [],
      "source": [
        ""
      ]
    },
    {
      "cell_type": "markdown",
      "metadata": {
        "id": "yS8KK2vOXPQe"
      },
      "source": [
        "# Evaluate your model\n",
        "\n",
        "Evaluate the best epoch's model (according to the validation accuracy) on the test set, and report the accuracy. Is your model overfitted?"
      ]
    },
    {
      "cell_type": "code",
      "execution_count": null,
      "metadata": {
        "id": "FyWCn8RlXVPU"
      },
      "outputs": [],
      "source": [
        ""
      ]
    },
    {
      "cell_type": "markdown",
      "metadata": {
        "id": "SpCyBGxYXD8g"
      },
      "source": [
        "# Draw misclassified images\n",
        "\n",
        "Draw 20 misclassified images from test set with expected and predicted labels."
      ]
    },
    {
      "cell_type": "code",
      "execution_count": null,
      "metadata": {
        "id": "RUv7EenHXGhu"
      },
      "outputs": [],
      "source": [
        ""
      ]
    },
    {
      "cell_type": "markdown",
      "source": [
        "# Plot the confusion matrix\n",
        "\n",
        "Plot the confusion matrix for the test set."
      ],
      "metadata": {
        "id": "jcc6LPazS31p"
      }
    },
    {
      "cell_type": "code",
      "source": [
        ""
      ],
      "metadata": {
        "id": "S1ko7AIe5D9W"
      },
      "execution_count": null,
      "outputs": []
    }
  ],
  "metadata": {
    "accelerator": "GPU",
    "colab": {
      "collapsed_sections": [],
      "name": "Classification with Convolutional Neural Networks: A Solution",
      "provenance": []
    },
    "kernelspec": {
      "display_name": "Python 3",
      "name": "python3"
    },
    "language_info": {
      "name": "python",
      "version": "3.8.8"
    }
  },
  "nbformat": 4,
  "nbformat_minor": 0
}