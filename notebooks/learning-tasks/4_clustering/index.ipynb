{
 "cells": [
  {
   "cell_type": "markdown",
   "metadata": {
    "id": "KKlVZnjY2nqX"
   },
   "source": [
    "In this task, you are going to cluster MNIST dataset using a pretrained ResNet 18 model and k-means."
   ]
  },
  {
   "cell_type": "markdown",
   "metadata": {
    "id": "KbAlALZI42rj"
   },
   "source": [
    "# Load the dataset\n",
    "\n",
    "Load the MNIST dataset bellow. You can use either `torchvision.datasets.MNIST` or `sklearn.datasets.fetch_openml()` or any other way to load the dataset. Note that you won't need a validation set."
   ]
  },
  {
   "cell_type": "code",
   "execution_count": null,
   "metadata": {
    "id": "UVbqcDmFchOM"
   },
   "outputs": [],
   "source": []
  },
  {
   "cell_type": "markdown",
   "metadata": {
    "id": "G5SioGHqE5TT"
   },
   "source": [
    "# Get ResNet 18\n",
    "\n",
    "Instantiate ResNet 18 model (pretrained on imagenet) from `torchvision`'s model zoo."
   ]
  },
  {
   "cell_type": "code",
   "execution_count": null,
   "metadata": {
    "colab": {
     "base_uri": "https://localhost:8080/"
    },
    "id": "GDp7dhDsEKVA",
    "outputId": "b38fb501-430a-4d46-a588-4e3d7cf0c076"
   },
   "outputs": [],
   "source": []
  },
  {
   "cell_type": "markdown",
   "metadata": {
    "id": "7k2EEHiDahLT"
   },
   "source": [
    "# Remove the decider layer\n",
    "\n",
    "Replace the `fc` layer of the resnet with an `Identity` layer so that we use the hidden features of the last layer."
   ]
  },
  {
   "cell_type": "code",
   "execution_count": null,
   "metadata": {
    "id": "G4jv_CmSZ1QM"
   },
   "outputs": [],
   "source": []
  },
  {
   "cell_type": "markdown",
   "metadata": {
    "id": "NFhaOGmCa8TV"
   },
   "source": [
    "# Cluster the data\n",
    "\n",
    "Use `MiniBatchKMeans` to cluster the MNIST dataset in 64 clusters."
   ]
  },
  {
   "cell_type": "code",
   "execution_count": null,
   "metadata": {
    "id": "MuVXWQ04bV6o"
   },
   "outputs": [],
   "source": []
  },
  {
   "cell_type": "markdown",
   "metadata": {
    "id": "5bZko9uCfrVc"
   },
   "source": [
    "# Assign clusters to test set.\n",
    "\n",
    "Predict cluster for test set samples."
   ]
  },
  {
   "cell_type": "code",
   "execution_count": null,
   "metadata": {
    "colab": {
     "base_uri": "https://localhost:8080/"
    },
    "id": "o01TeNqdcJwN",
    "outputId": "7509d51c-c16f-4fa0-82ce-d941170c0927"
   },
   "outputs": [],
   "source": []
  },
  {
   "cell_type": "markdown",
   "metadata": {
    "id": "q7v0qN5C-eob"
   },
   "source": [
    "# Draw clusters\n",
    "\n",
    "Draw 10 random samples per each cluster from the test set."
   ]
  },
  {
   "cell_type": "code",
   "execution_count": null,
   "metadata": {
    "id": "eoLCMeFpmmGx"
   },
   "outputs": [],
   "source": []
  }
 ],
 "metadata": {
  "accelerator": "GPU",
  "colab": {
   "collapsed_sections": [],
   "name": "Clustering using pretrained deep models",
   "provenance": []
  },
  "kernelspec": {
   "display_name": "Python 3",
   "language": "python",
   "name": "python3"
  },
  "language_info": {
   "codemirror_mode": {
    "name": "ipython",
    "version": 3
   },
   "file_extension": ".py",
   "mimetype": "text/x-python",
   "name": "python",
   "nbconvert_exporter": "python",
   "pygments_lexer": "ipython3",
   "version": "3.8.5"
  }
 },
 "nbformat": 4,
 "nbformat_minor": 1
}
