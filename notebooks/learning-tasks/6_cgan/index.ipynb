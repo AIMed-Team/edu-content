{
  "cells": [
    {
      "cell_type": "markdown",
      "metadata": {
        "id": "on3JpS00dxWv"
      },
      "source": [
        "In this task, you should train a conditional GAN to generate the right half of MNIST images, given the left half."
      ]
    },
    {
      "cell_type": "markdown",
      "metadata": {
        "id": "KbAlALZI42rj"
      },
      "source": [
        "# Load the dataset\n",
        "\n",
        "Load the MNIST dataset bellow. You can use either `torchvision.datasets.MNIST` or `sklearn.datasets.fetch_openml()` or any other way to load the dataset."
      ]
    },
    {
      "cell_type": "code",
      "execution_count": null,
      "metadata": {
        "id": "Vifxv9U919AY"
      },
      "outputs": [],
      "source": []
    },
    {
      "cell_type": "markdown",
      "metadata": {
        "id": "6QS8RAKf5Am9"
      },
      "source": [
        "# Design your model\n",
        "\n",
        "Implement your GAN below using `torch.nn` modules. Feel free to add extra cells. The generator should construct right half of an image given the left half of it and a noise. The general structure of this GAN is shown below.\n",
        "\n",
        "![](./images/CGAN.jpeg)"
      ]
    },
    {
      "cell_type": "code",
      "execution_count": null,
      "metadata": {
        "id": "yA5lgQhCjIBq"
      },
      "outputs": [],
      "source": []
    },
    {
      "cell_type": "markdown",
      "metadata": {
        "id": "bn1JazTM5LUX"
      },
      "source": [
        "# Train your GAN\n",
        "\n",
        "Write the training process below. Feel free to add extra cells."
      ]
    },
    {
      "cell_type": "code",
      "execution_count": null,
      "metadata": {
        "id": "_yapuF5-AwT7"
      },
      "outputs": [],
      "source": []
    },
    {
      "cell_type": "markdown",
      "metadata": {
        "id": "CreskZKtiRFv"
      },
      "source": [
        "# Plot Generator/Discriminator losses"
      ]
    },
    {
      "cell_type": "code",
      "execution_count": null,
      "metadata": {
        "id": "xzkbPMX2KxbZ"
      },
      "outputs": [],
      "source": []
    },
    {
      "cell_type": "markdown",
      "metadata": {
        "id": "Y2Ohbv9AiJbp"
      },
      "source": [
        "# Draw examples\n",
        "\n",
        "Draw real vs. generated images below (from the best epoch)."
      ]
    },
    {
      "cell_type": "code",
      "execution_count": null,
      "metadata": {
        "id": "Mi677h-aiWFC"
      },
      "outputs": [],
      "source": []
    }
  ],
  "metadata": {
    "colab": {
      "collapsed_sections": [],
      "name": "Conditional GAN",
      "provenance": []
    },
    "kernelspec": {
      "display_name": "Python 3",
      "name": "python3"
    },
    "language_info": {
      "name": "python"
    }
  },
  "nbformat": 4,
  "nbformat_minor": 0
}
