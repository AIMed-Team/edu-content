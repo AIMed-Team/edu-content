{
  "nbformat": 4,
  "nbformat_minor": 0,
  "metadata": {
    "colab": {
      "name": "Classification with Fully Connected model",
      "provenance": [],
      "collapsed_sections": []
    },
    "kernelspec": {
      "name": "python3",
      "display_name": "Python 3"
    },
    "language_info": {
      "name": "python"
    }
  },
  "cells": [
    {
      "cell_type": "markdown",
      "source": [
        "In this task, you should train a fully-connected model to classify MNIST dataset."
      ],
      "metadata": {
        "id": "KKlVZnjY2nqX"
      }
    },
    {
      "cell_type": "markdown",
      "source": [
        "# Load the dataset\n",
        "\n",
        "Load the MNIST dataset bellow."
      ],
      "metadata": {
        "id": "KbAlALZI42rj"
      }
    },
    {
      "cell_type": "code",
      "execution_count": null,
      "metadata": {
        "id": "Vifxv9U919AY"
      },
      "outputs": [],
      "source": [
        ""
      ]
    },
    {
      "cell_type": "markdown",
      "source": [
        "# Design your model\n",
        "\n",
        "Write your fully-connected model below. Feel free to add extra cells."
      ],
      "metadata": {
        "id": "6QS8RAKf5Am9"
      }
    },
    {
      "cell_type": "code",
      "source": [
        ""
      ],
      "metadata": {
        "id": "dKoXyIjq5IYQ"
      },
      "execution_count": null,
      "outputs": []
    },
    {
      "cell_type": "markdown",
      "source": [
        "# Train your model\n",
        "\n",
        "Write the training proecss below. Feel free to add extra cells."
      ],
      "metadata": {
        "id": "bn1JazTM5LUX"
      }
    },
    {
      "cell_type": "code",
      "source": [
        ""
      ],
      "metadata": {
        "id": "lW4UBnjL5Q9E"
      },
      "execution_count": null,
      "outputs": []
    },
    {
      "cell_type": "markdown",
      "source": [
        "# Draw the training curves\n",
        "\n",
        "Draw two diagrams for train and validation, one showing loss of each epoch, and another showing accuracy of each epoch."
      ],
      "metadata": {
        "id": "z2jTsGQY5jUQ"
      }
    },
    {
      "cell_type": "code",
      "source": [
        ""
      ],
      "metadata": {
        "id": "07HK4m6n5mb1"
      },
      "execution_count": null,
      "outputs": []
    }
  ]
}