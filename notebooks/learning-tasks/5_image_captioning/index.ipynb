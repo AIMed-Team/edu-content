{
 "cells": [
  {
   "cell_type": "markdown",
   "metadata": {},
   "source": [
    "In this notebook, you should implement an exciting task, write a caption for images with an intelligent agent! "
   ]
  },
  {
   "cell_type": "markdown",
   "metadata": {},
   "source": [
    "We use the [COCO dataset](https://cocodataset.org/) for this purpose. COCO is large-scale object detection, segmentation, and captioning dataset. Also, we use the pycocotools library for some data-related works. So, you should install it first. Maybe it needs some dependencies that you have not on your PC. So, we recommend running this notebook on Google collab. You should upload data_related.py in the content folder on Colab if you want to do so."
   ]
  },
  {
   "cell_type": "code",
   "execution_count": null,
   "metadata": {},
   "outputs": [],
   "source": [
    "!pip install pycocotools\n",
    "!pip install nltk"
   ]
  },
  {
   "cell_type": "code",
   "execution_count": null,
   "metadata": {},
   "outputs": [],
   "source": [
    "import os\n",
    "\n",
    "os.makedirs('opt' , exist_ok=True)\n",
    "os.chdir( 'opt' )\n",
    "!git clone 'https://github.com/cocodataset/cocoapi.git'"
   ]
  },
  {
   "cell_type": "markdown",
   "metadata": {},
   "source": [
    "The following command imports some data-related functions, and it takes about 10 minutes for running."
   ]
  },
  {
   "cell_type": "code",
   "execution_count": null,
   "metadata": {},
   "outputs": [],
   "source": [
    "import data_related"
   ]
  },
  {
   "cell_type": "markdown",
   "metadata": {},
   "source": [
    "Your network should have two parts, a CNN for understanding the image and an LSTM for generating related sentences."
   ]
  },
  {
   "cell_type": "markdown",
   "metadata": {},
   "source": [
    "## Model"
   ]
  },
  {
   "cell_type": "code",
   "execution_count": null,
   "metadata": {},
   "outputs": [],
   "source": [
    "import torch\n",
    "import torch.nn as nn\n",
    "import torchvision.models as models\n",
    "import math"
   ]
  },
  {
   "cell_type": "code",
   "execution_count": null,
   "metadata": {},
   "outputs": [],
   "source": [
    "class Encoder(nn.Module):\n",
    "    def __init__(self, embed_size):\n",
    "        super(Encoder, self).__init__()\n",
    "        # todo: Define a CNN with an extended fully-connected. Your output should be of the shape Batch_Size x embed_size.\n",
    "        # Make sure that your model is strong enough to encode the image properly.\n",
    "        #######################\n",
    "\n",
    "        \n",
    "        #######################\n",
    "    \n",
    "    def forward(self, images):\n",
    "        features = None\n",
    "        #######################\n",
    "\n",
    "\n",
    "        #######################\n",
    "        return features"
   ]
  },
  {
   "cell_type": "code",
   "execution_count": null,
   "metadata": {},
   "outputs": [],
   "source": [
    "class Decoder(nn.Module):\n",
    "    def __init__(self, embed_size, hidden_size, vocab_size, num_layers=1):\n",
    "        super(Decoder, self).__init__()\n",
    "        self.embed_size = embed_size\n",
    "        self.hidden_size = hidden_size \n",
    "        self.vocab_size = vocab_size\n",
    "        self.num_layers = num_layers\n",
    "        # todo: Define an embedding layer to transform inputs from \"vocab_size\" dim to \"embed size\" dim.\n",
    "        #######################\n",
    "\n",
    "        \n",
    "        #######################\n",
    "        \n",
    "        # todo: Define an LSTM decoder with input size, hidden size, and num layers specified in the input.  \n",
    "        #######################\n",
    "\n",
    "        \n",
    "        #######################\n",
    "        \n",
    "        # todo: Define a fully-connected layer to transform the output hidden size of LSTM to a \"vocab_size\" dim vector.\n",
    "        #######################\n",
    "        \n",
    "        #######################\n",
    "    def init_hidden(self, batch_size):\n",
    "        return ( torch.zeros( self.num_layers , batch_size , self.hidden_size  ).to(device),\n",
    "        torch.zeros( self.num_layers , batch_size , self.hidden_size  ).to(device) )\n",
    "    \n",
    "    def forward(self, features, captions):            \n",
    "        captions = captions[:,  :-1]      \n",
    "        self.batch_size = features.shape[0]\n",
    "        self.hidden = self.init_hidden( self.batch_size )\n",
    "        outputs = None  \n",
    "        \n",
    "        # todo: Compute the output of the model.\n",
    "        #######################\n",
    "\n",
    "        \n",
    "        #######################\n",
    "        return outputs\n",
    "\n",
    "    def generate(self, inputs, max_len=20):\n",
    "        final_output = []\n",
    "        batch_size = inputs.shape[0]         \n",
    "        hidden = self.init_hidden(batch_size)\n",
    "        max_sent_length = 20\n",
    "    \n",
    "        # todo: You should pass hidden state and previous vocab to LSTM successively, and stop generating when\n",
    "        # The length of the sentence exceeds max_sent_length, or EOS token (end of sentence, index 1) occurs.\n",
    "        # Just return indexes in final_output.\n",
    "        #######################\n",
    "\n",
    "        \n",
    "        #######################\n",
    "        return final_output  "
   ]
  },
  {
   "cell_type": "markdown",
   "metadata": {},
   "source": [
    "## Train"
   ]
  },
  {
   "cell_type": "code",
   "execution_count": null,
   "metadata": {},
   "outputs": [],
   "source": [
    "embed_size = 256\n",
    "hidden_size = 100\n",
    "num_layers =1 \n",
    "num_epochs = 4\n",
    "print_every = 150\n",
    "save_every = 1\n",
    "vocab_size = len(data_related.data_loader_train.dataset.vocab)\n",
    "total_step = math.ceil(len(data_related.data_loader_train.dataset.caption_lengths) / \n",
    "                       data_related.data_loader_train.batch_sampler.batch_size)\n",
    "lr = 0.001\n",
    "device =  torch.device('cuda' if torch.cuda.is_available() else 'cpu')\n",
    "model_save_path = 'model_weights/'\n",
    "os.makedirs( model_save_path , exist_ok=True)\n",
    "\n",
    "encoder = Encoder(embed_size)\n",
    "decoder = Decoder(embed_size, hidden_size, vocab_size ,num_layers)"
   ]
  },
  {
   "cell_type": "code",
   "execution_count": null,
   "metadata": {},
   "outputs": [],
   "source": [
    "# todo: Define loss function and optimizer for encoder and decoder weights.\n",
    "#######################\n",
    "criterion = None\n",
    "optimizer = None\n",
    "\n",
    "\n",
    "#######################"
   ]
  },
  {
   "cell_type": "markdown",
   "metadata": {},
   "source": [
    "The training process may take up to 10 hours. Save the model frequently. If the training process stops for some reason, continue from the last saved model."
   ]
  },
  {
   "cell_type": "code",
   "execution_count": null,
   "metadata": {},
   "outputs": [],
   "source": [
    "import sys\n",
    "encoder.train()\n",
    "decoder.train()\n",
    "for e in range(1, num_epochs):\n",
    "    for step in range(total_step):\n",
    "        indices = data_related.data_loader_train.dataset.get_train_indices()\n",
    "        new_sampler = data_related.data.sampler.SubsetRandomSampler(indices)\n",
    "        data_related.data_loader_train.batch_sampler.sampler = new_sampler    \n",
    "        images,captions = next(iter(data_related.data_loader_train))    \n",
    "        images , captions = images.to(device) , captions.to(device)\n",
    "        encoder , decoder = encoder.to(device) , decoder.to(device)\n",
    "        encoder.zero_grad()    \n",
    "        decoder.zero_grad()\n",
    "        # todo: Compute output and loss.\n",
    "        #######################\n",
    "\n",
    "        \n",
    "        #######################\n",
    "        loss.backward()\n",
    "        optimizer.step()\n",
    "        stat_vals = 'Epochs [%d/%d] Step [%d/%d] Loss [%.4f] ' %(e+1, num_epochs, step, total_step,loss.item())\n",
    "        if step % print_every == 0:\n",
    "            print(stat_vals)\n",
    "            sys.stdout.flush()\n",
    "            torch.save( encoder.state_dict() ,  os.path.join( model_save_path , 'encoderdata_{}.pkl'.format(e+1) ) )\n",
    "            torch.save( decoder.state_dict() ,  os.path.join( model_save_path , 'decoderdata_{}.pkl'.format(e+1) ) )\n",
    "    if e % save_every == 0:\n",
    "        torch.save( encoder.state_dict() ,  os.path.join( model_save_path , 'encoderdata_{}.pkl'.format(e+1) ) )\n",
    "        torch.save( decoder.state_dict() ,  os.path.join( model_save_path , 'decoderdata_{}.pkl'.format(e+1) ) )"
   ]
  },
  {
   "cell_type": "markdown",
   "metadata": {},
   "source": [
    "## Test"
   ]
  },
  {
   "cell_type": "code",
   "execution_count": null,
   "metadata": {},
   "outputs": [],
   "source": [
    "encoder.to(device) \n",
    "decoder.to(device)\n",
    "encoder.eval()\n",
    "decoder.eval()\n",
    "original_img , processed_img  = next( data_related.data_iter )\n",
    "\n",
    "features  = encoder(processed_img.to(device)).unsqueeze(1)\n",
    "final_output = decoder.generate( features  , max_len=20)\n",
    "data_related.get_sentences(original_img, final_output)"
   ]
  }
 ],
 "metadata": {
  "kernelspec": {
   "display_name": "Python 3",
   "language": "python",
   "name": "python3"
  },
  "language_info": {
   "codemirror_mode": {
    "name": "ipython",
    "version": 3
   },
   "file_extension": ".py",
   "mimetype": "text/x-python",
   "name": "python",
   "nbconvert_exporter": "python",
   "pygments_lexer": "ipython3",
   "version": "3.8.5"
  }
 },
 "nbformat": 4,
 "nbformat_minor": 4
}
