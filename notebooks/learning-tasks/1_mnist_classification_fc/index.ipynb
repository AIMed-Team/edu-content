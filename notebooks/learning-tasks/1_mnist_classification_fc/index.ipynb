{
  "cells": [
    {
      "cell_type": "markdown",
      "metadata": {
        "id": "KKlVZnjY2nqX"
      },
      "source": [
        "In this task, you should train a fully-connected model with pytorch to classify MNIST dataset."
      ]
    },
    {
      "cell_type": "markdown",
      "metadata": {
        "id": "KbAlALZI42rj"
      },
      "source": [
        "# Load the dataset\n",
        "\n",
        "Load the MNIST dataset bellow. You can use either `torchvision.datasets.MNIST` or `sklearn.datasets.fetch_openml()` or any other way to load the dataset."
      ]
    },
    {
      "cell_type": "code",
      "execution_count": null,
      "metadata": {
        "id": "Vifxv9U919AY"
      },
      "outputs": [],
      "source": []
    },
    {
      "cell_type": "markdown",
      "metadata": {
        "id": "6QS8RAKf5Am9"
      },
      "source": [
        "# Design your model\n",
        "\n",
        "Write your fully-connected model below using `torch.nn` modules. Feel free to add extra cells."
      ]
    },
    {
      "cell_type": "code",
      "execution_count": null,
      "metadata": {
        "id": "dKoXyIjq5IYQ"
      },
      "outputs": [],
      "source": []
    },
    {
      "cell_type": "markdown",
      "metadata": {
        "id": "bn1JazTM5LUX"
      },
      "source": [
        "# Train your model\n",
        "\n",
        "Write the training process below. Instantiate your model, Create an optimizer function such as Adam or SGD, and write your train/validation loop. Then train your model until it converges. Feel free to add extra cells."
      ]
    },
    {
      "cell_type": "code",
      "execution_count": null,
      "metadata": {
        "id": "lW4UBnjL5Q9E"
      },
      "outputs": [],
      "source": []
    },
    {
      "cell_type": "markdown",
      "metadata": {
        "id": "z2jTsGQY5jUQ"
      },
      "source": [
        "# Draw the training curves\n",
        "\n",
        "Draw two diagrams for train and validation, one showing loss of each epoch, and another showing accuracy of each epoch."
      ]
    },
    {
      "cell_type": "code",
      "execution_count": null,
      "metadata": {
        "id": "07HK4m6n5mb1"
      },
      "outputs": [],
      "source": []
    },
    {
      "cell_type": "markdown",
      "metadata": {
        "id": "yS8KK2vOXPQe"
      },
      "source": [
        "# Evaluate your model\n",
        "\n",
        "Evaluate the best epoch's model (according to the validation accuracy) on the test set, and report the accuracy. Is your model overfitted?"
      ]
    },
    {
      "cell_type": "code",
      "execution_count": null,
      "metadata": {
        "id": "FyWCn8RlXVPU"
      },
      "outputs": [],
      "source": []
    },
    {
      "cell_type": "markdown",
      "metadata": {
        "id": "SpCyBGxYXD8g"
      },
      "source": [
        "# Draw misclassified images\n",
        "\n",
        "Draw 20 misclassified images from test set with expected and predicted labels."
      ]
    },
    {
      "cell_type": "code",
      "execution_count": null,
      "metadata": {
        "id": "RUv7EenHXGhu"
      },
      "outputs": [],
      "source": []
    }
  ],
  "metadata": {
    "colab": {
      "collapsed_sections": [],
      "name": "Classification with Fully Connected model",
      "provenance": []
    },
    "kernelspec": {
      "display_name": "Python 3",
      "name": "python3"
    },
    "language_info": {
      "name": "python"
    }
  },
  "nbformat": 4,
  "nbformat_minor": 0
}
