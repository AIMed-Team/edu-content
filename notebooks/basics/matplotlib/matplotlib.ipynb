{
  "nbformat": 4,
  "nbformat_minor": 0,
  "metadata": {
    "colab": {
      "name": "matplotlib.ipynb",
      "provenance": [],
      "collapsed_sections": []
    },
    "kernelspec": {
      "name": "python3",
      "display_name": "Python 3"
    },
    "language_info": {
      "name": "python"
    }
  },
  "cells": [
    {
      "cell_type": "code",
      "execution_count": null,
      "metadata": {
        "id": "qKnxy_6ZNLBY"
      },
      "outputs": [],
      "source": [
        "import numpy as np\n",
        "import matplotlib.pyplot as plt"
      ]
    },
    {
      "cell_type": "markdown",
      "source": [
        "scatter plot: "
      ],
      "metadata": {
        "id": "I2el2gMKOLDu"
      }
    },
    {
      "cell_type": "code",
      "source": [
        "x = np.random.normal(5.0, 1.0, 1000) # x array\n",
        "y = np.random.normal(10.0, 2.0, 1000) # y array"
      ],
      "metadata": {
        "id": "aVH0lt1obMUX"
      },
      "execution_count": null,
      "outputs": []
    },
    {
      "cell_type": "markdown",
      "source": [
        "plot 2d funcion: x^4 + 3x^3 - x^2 + 5"
      ],
      "metadata": {
        "id": "4GAsrYAUOO52"
      }
    },
    {
      "cell_type": "code",
      "source": [
        "x = np.linspace(-1,1, 1000) # from -1 to 1 and 1000 samples total"
      ],
      "metadata": {
        "id": "wPof8OdzbM4G"
      },
      "execution_count": null,
      "outputs": []
    },
    {
      "cell_type": "markdown",
      "source": [
        "mutiple plots using subplots\n",
        "plot four different functions and adjust spacing between them\n",
        "add title for each subplots\n",
        "add title for the plot"
      ],
      "metadata": {
        "id": "CodPI9SLOYhm"
      }
    },
    {
      "cell_type": "code",
      "source": [
        "x = np.linspace(-1,1, 1000) # from -1 to 1 and 1000 samples total\n"
      ],
      "metadata": {
        "id": "vQjDd7kPbNhx"
      },
      "execution_count": null,
      "outputs": []
    },
    {
      "cell_type": "markdown",
      "source": [
        "plot above functions on same plot using legend "
      ],
      "metadata": {
        "id": "8Bpb8F_b9khk"
      }
    },
    {
      "cell_type": "code",
      "source": [
        "x = np.linspace(-1,1, 1000) # from -1 to 1 and 1000 samples total\n"
      ],
      "metadata": {
        "id": "b6lXOBOx91ft"
      },
      "execution_count": null,
      "outputs": []
    },
    {
      "cell_type": "markdown",
      "source": [
        "bar plots"
      ],
      "metadata": {
        "id": "vsoZ1BZ7OiZK"
      }
    },
    {
      "cell_type": "code",
      "source": [
        "langs = ['C', 'C++', 'Java', 'Python', 'PHP']\n",
        "students = [23,17,35,29,12]\n"
      ],
      "metadata": {
        "id": "2_xAsYtabOEe"
      },
      "execution_count": null,
      "outputs": []
    },
    {
      "cell_type": "markdown",
      "source": [
        "plot image"
      ],
      "metadata": {
        "id": "2gDMTJBJPcI8"
      }
    },
    {
      "cell_type": "code",
      "source": [
        "path = 'https://matplotlib.org/stable/_images/sphx_glr_logos2_001_2_0x.png'\n",
        "from skimage import io\n",
        "np_image = io.imread(path)"
      ],
      "metadata": {
        "id": "37G-d0aubOkx"
      },
      "execution_count": null,
      "outputs": []
    }
  ]
}