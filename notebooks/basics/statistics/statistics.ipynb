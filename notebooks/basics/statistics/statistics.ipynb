{
  "nbformat": 4,
  "nbformat_minor": 0,
  "metadata": {
    "colab": {
      "name": "statistics.ipynb",
      "provenance": [],
      "collapsed_sections": []
    },
    "kernelspec": {
      "name": "python3",
      "display_name": "Python 3"
    },
    "language_info": {
      "name": "python"
    }
  },
  "cells": [
    {
      "cell_type": "code",
      "source": [
        "from sklearn.datasets import make_blobs\n",
        "import numpy as np\n",
        "import matplotlib.pyplot as plt\n",
        "\n",
        "# create dataset\n",
        "X, _ = make_blobs(\n",
        "   n_samples=450, n_features=2,\n",
        "   centers=1, cluster_std=0.75,\n",
        "   shuffle=True, random_state=0\n",
        ")\n",
        "coefficients = [np.random.rand(),np.random.rand()]\n",
        "X = X * coefficients"
      ],
      "metadata": {
        "id": "ez1aOoQoN7D4"
      },
      "execution_count": 38,
      "outputs": []
    },
    {
      "cell_type": "markdown",
      "source": [
        "plot data using maplotlib scatter"
      ],
      "metadata": {
        "id": "Qws16MT1pBlH"
      }
    },
    {
      "cell_type": "code",
      "source": [
        ""
      ],
      "metadata": {
        "id": "o-B6XnGJpVYJ"
      },
      "execution_count": null,
      "outputs": []
    },
    {
      "cell_type": "markdown",
      "source": [
        "compute mean , covariance matrix and correlation matrix for data"
      ],
      "metadata": {
        "id": "LzceF4ZOL77r"
      }
    },
    {
      "cell_type": "code",
      "source": [
        ""
      ],
      "metadata": {
        "id": "ZWh8SIvHQhIi"
      },
      "execution_count": 41,
      "outputs": []
    },
    {
      "cell_type": "markdown",
      "source": [
        "generate samples using covariance matrix and mean using numpy.random.multivariate_normal"
      ],
      "metadata": {
        "id": "DGizPXOYMFxE"
      }
    },
    {
      "cell_type": "code",
      "source": [
        ""
      ],
      "metadata": {
        "id": "2Xqlny_mQibW"
      },
      "execution_count": 42,
      "outputs": []
    },
    {
      "cell_type": "markdown",
      "source": [
        "plot generated samples created from previous steps using matplotlib scatter"
      ],
      "metadata": {
        "id": "QGjs_aaUpu3c"
      }
    },
    {
      "cell_type": "code",
      "source": [
        ""
      ],
      "metadata": {
        "id": "gTbc-DtjpuGb"
      },
      "execution_count": null,
      "outputs": []
    }
  ]
}