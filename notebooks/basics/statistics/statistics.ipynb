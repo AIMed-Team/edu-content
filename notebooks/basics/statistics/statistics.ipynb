{
  "cells": [
    {
      "cell_type": "code",
      "execution_count": 38,
      "metadata": {
        "id": "ez1aOoQoN7D4"
      },
      "outputs": [],
      "source": [
        "from sklearn.datasets import make_blobs\n",
        "import numpy as np\n",
        "import matplotlib.pyplot as plt\n",
        "\n",
        "# create dataset\n",
        "X, _ = make_blobs(\n",
        "   n_samples=450, n_features=2,\n",
        "   centers=1, cluster_std=0.75,\n",
        "   shuffle=True, random_state=0\n",
        ")\n",
        "coefficients = [np.random.rand(),np.random.rand()]\n",
        "X = X * coefficients"
      ]
    },
    {
      "cell_type": "markdown",
      "metadata": {
        "id": "Qws16MT1pBlH"
      },
      "source": [
        "plot the data using maplotlib scatter"
      ]
    },
    {
      "cell_type": "code",
      "execution_count": null,
      "metadata": {
        "id": "o-B6XnGJpVYJ"
      },
      "outputs": [],
      "source": []
    },
    {
      "cell_type": "markdown",
      "metadata": {
        "id": "LzceF4ZOL77r"
      },
      "source": [
        "compute mean , covariance matrix and correlation matrix for the data"
      ]
    },
    {
      "cell_type": "code",
      "execution_count": 41,
      "metadata": {
        "id": "ZWh8SIvHQhIi"
      },
      "outputs": [],
      "source": []
    },
    {
      "cell_type": "markdown",
      "metadata": {
        "id": "DGizPXOYMFxE"
      },
      "source": [
        "generate samples using covariance matrix and mean using numpy.random.multivariate_normal"
      ]
    },
    {
      "cell_type": "code",
      "execution_count": 42,
      "metadata": {
        "id": "2Xqlny_mQibW"
      },
      "outputs": [],
      "source": []
    },
    {
      "cell_type": "markdown",
      "metadata": {
        "id": "QGjs_aaUpu3c"
      },
      "source": [
        "plot generated samples created from the previous steps using matplotlib scatter"
      ]
    },
    {
      "cell_type": "code",
      "execution_count": null,
      "metadata": {
        "id": "gTbc-DtjpuGb"
      },
      "outputs": [],
      "source": []
    }
  ],
  "metadata": {
    "colab": {
      "collapsed_sections": [],
      "name": "statistics.ipynb",
      "provenance": []
    },
    "kernelspec": {
      "display_name": "Python 3",
      "name": "python3"
    },
    "language_info": {
      "name": "python"
    }
  },
  "nbformat": 4,
  "nbformat_minor": 0
}
