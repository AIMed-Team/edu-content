{
 "cells": [
  {
   "cell_type": "code",
   "execution_count": 2,
   "metadata": {
    "id": "8LXWkLcNcibu"
   },
   "outputs": [],
   "source": [
    "import numpy as np\n",
    "from PIL import Image\n",
    "import imageio\n",
    "import skimage\n",
    "import matplotlib.pyplot as plt"
   ]
  },
  {
   "cell_type": "markdown",
   "metadata": {
    "id": "ior1MN74PhMn"
   },
   "source": [
    "1. read image from path\n",
    "\n",
    "2. convert it to grayscale image\n",
    "\n",
    "3. plot image\n",
    "\n",
    "4. write image to a png file"
   ]
  },
  {
   "cell_type": "code",
   "execution_count": null,
   "metadata": {
    "colab": {
     "base_uri": "https://localhost:8080/",
     "height": 457
    },
    "id": "_6mrHFN-QeIf",
    "outputId": "08384c24-8873-444a-ad08-7d8478e706ca"
   },
   "outputs": [],
   "source": [
    "path = 'https://upload.wikimedia.org/wikipedia/en/thumb/7/7d/Lenna_%28test_image%29.png/440px-Lenna_%28test_image%29.png'\n",
    "np_image = imageio.imread(path)\n",
    "pil_image = Image.fromarray(np_image)\n",
    "gray_scaled = pil_image.convert('L')\n",
    "gray_scaled.save('lena_gray.png')\n",
    "display(gray_scaled)"
   ]
  },
  {
   "cell_type": "markdown",
   "metadata": {
    "id": "W_L7Yt3_PoDq"
   },
   "source": [
    "plot histogram of gray scaled image"
   ]
  },
  {
   "cell_type": "code",
   "execution_count": null,
   "metadata": {
    "colab": {
     "base_uri": "https://localhost:8080/",
     "height": 281
    },
    "id": "a38MYZeFQdqm",
    "outputId": "57426b12-50d5-4575-855b-d1f460b584df"
   },
   "outputs": [],
   "source": [
    "histogram = np.array(gray_scaled.histogram())\n",
    "histogram = histogram/sum(histogram) # normalized\n",
    "x = np.arange(256)\n",
    "plt.plot(x,histogram)\n",
    "plt.title('Histogram of lena')\n",
    "plt.show()"
   ]
  },
  {
   "cell_type": "markdown",
   "metadata": {
    "id": "2Pkzf1wHPoHv"
   },
   "source": [
    "rotate images 60 degrees"
   ]
  },
  {
   "cell_type": "code",
   "execution_count": null,
   "metadata": {
    "colab": {
     "base_uri": "https://localhost:8080/",
     "height": 248
    },
    "id": "wkVEyGklQdOU",
    "outputId": "a63fdb4c-ad51-49b5-ccaf-514d6190926b"
   },
   "outputs": [],
   "source": [
    "from skimage.transform import rotate\n",
    "rotated = rotate(np.array(gray_scaled), 60 , resize=True)\n",
    "plt.imshow(rotated,cmap='gray')\n",
    "plt.axis('off')\n",
    "plt.show()"
   ]
  },
  {
   "cell_type": "markdown",
   "metadata": {
    "id": "IHGQ9vMEPoL4"
   },
   "source": [
    "resize images to 600x600 and show both images"
   ]
  },
  {
   "cell_type": "code",
   "execution_count": null,
   "metadata": {
    "colab": {
     "base_uri": "https://localhost:8080/",
     "height": 1000
    },
    "id": "thumXmcTQciV",
    "outputId": "953ae36b-cd6b-4902-e967-5c5203852e49"
   },
   "outputs": [],
   "source": [
    "from skimage.transform import rotate,resize\n",
    "display(gray_scaled)\n",
    "resized = gray_scaled.resize((600,600))\n",
    "display(resized)"
   ]
  },
  {
   "attachments": {},
   "cell_type": "markdown",
   "metadata": {},
   "source": [
    "How many coins are inside image? Use skimage's measure module :)"
   ]
  },
  {
   "cell_type": "code",
   "execution_count": null,
   "metadata": {},
   "outputs": [],
   "source": [
    "from skimage import measure\n",
    "\n",
    "coins_path = 'https://media.imna.ir/d/2018/09/29/3/1530690.jpg'\n",
    "np_image = imageio.imread(coins_path)\n",
    "# it's an open problem . it is not so easy and they can use thresolding , blurring , ... to get good results!"
   ]
  },
  {
   "attachments": {},
   "cell_type": "markdown",
   "metadata": {},
   "source": [
    "use deeplake module to download required files for the following tasks"
   ]
  },
  {
   "cell_type": "code",
   "execution_count": null,
   "metadata": {},
   "outputs": [],
   "source": [
    "! pip install deeplake"
   ]
  },
  {
   "cell_type": "code",
   "execution_count": null,
   "metadata": {},
   "outputs": [],
   "source": [
    "import deeplake\n",
    "ds = deeplake.load(\"hub://activeloop/cifar100-test\")\n",
    "ds.visualize()"
   ]
  },
  {
   "attachments": {},
   "cell_type": "markdown",
   "metadata": {},
   "source": [
    "1. read 10000 images of this dataset randomly from test images and save them as png files using a for loop. measure time needed to read and save them.\n",
    "2. Use python multithreading to read and save these files and measure the process time.\n",
    "3. Use python multiprocessing to read and save these files and measure the process time."
   ]
  },
  {
   "cell_type": "code",
   "execution_count": 3,
   "metadata": {},
   "outputs": [],
   "source": [
    "from typing import Callable\n",
    "from datetime import datetime\n",
    "from PIL import Image\n",
    "import os\n",
    "\n",
    "saving_address = \"~/images_cifar100\"\n",
    "os.makedirs(saving_address , exist_ok=True)\n",
    "def timeit(function:Callable):\n",
    "    first_time = datetime.now()\n",
    "    function()\n",
    "    last_time = datetime.now()\n",
    "    print(f\"process took {(last_time - first_time).total_seconds()} seconds.\")\n",
    "    return\n",
    "def save_image(index):\n",
    "    image = ds.images[index].numpy()\n",
    "    Image.fromarray(image).save(f\"{saving_address}/{index}.png\")"
   ]
  },
  {
   "cell_type": "code",
   "execution_count": 9,
   "metadata": {},
   "outputs": [
    {
     "name": "stdout",
     "output_type": "stream",
     "text": [
      "process took 0.949402 seconds.\n"
     ]
    }
   ],
   "source": [
    "import random\n",
    "def save_loop():\n",
    "    image_count = len(ds.images)\n",
    "    for i in range(1000):\n",
    "        index = random.randint(0,int(image_count-1))\n",
    "        save_image(i)\n",
    "timeit(save_loop)"
   ]
  },
  {
   "cell_type": "code",
   "execution_count": 10,
   "metadata": {},
   "outputs": [
    {
     "name": "stdout",
     "output_type": "stream",
     "text": [
      "process took 0.258296 seconds.\n"
     ]
    }
   ],
   "source": [
    "import random\n",
    "from multiprocessing import Pool\n",
    "\n",
    "def save_multiprocessing():\n",
    "    pool = Pool(10)\n",
    "    image_count = len(ds.images)\n",
    "    indices = [(random.randint(0,int(image_count-1)),) for i in range(1000)]\n",
    "    pool.starmap(save_image, indices)\n",
    "timeit(save_multiprocessing)"
   ]
  },
  {
   "cell_type": "code",
   "execution_count": 11,
   "metadata": {},
   "outputs": [
    {
     "name": "stdout",
     "output_type": "stream",
     "text": [
      "process took 0.990368 seconds.\n"
     ]
    }
   ],
   "source": [
    "import random\n",
    "from multiprocessing.pool import ThreadPool\n",
    "def save_multithreading():\n",
    "    pool = ThreadPool(10)\n",
    "    image_count = len(ds.images)\n",
    "    indices = [(random.randint(0,int(image_count-1)),) for i in range(1000)]\n",
    "    pool.starmap(save_image, indices)\n",
    "timeit(save_multithreading)"
   ]
  },
  {
   "attachments": {},
   "cell_type": "markdown",
   "metadata": {},
   "source": [
    "1. read 200 images of this dataset randomly from test images and blur them two times with kernel sizes (3,3) , (5,5) using a for loop. measure time needed to read and save them.\n",
    "2. Use python multithreading to read and process these images and measure the process time.\n",
    "3. Use python multiprocessing to read and process these images and measure the process time."
   ]
  },
  {
   "cell_type": "code",
   "execution_count": 8,
   "metadata": {},
   "outputs": [],
   "source": [
    "import cv2"
   ]
  },
  {
   "cell_type": "code",
   "execution_count": 6,
   "metadata": {},
   "outputs": [],
   "source": [
    "def blur(index,kernel_size):\n",
    "    image = ds.images[index].numpy()\n",
    "    return cv2.blur(image,(kernel_size,kernel_size))"
   ]
  },
  {
   "cell_type": "code",
   "execution_count": 9,
   "metadata": {},
   "outputs": [
    {
     "name": "stdout",
     "output_type": "stream",
     "text": [
      "process took 41.299255 seconds.\n"
     ]
    }
   ],
   "source": [
    "import random\n",
    "def save_loop():\n",
    "    image_count = len(ds.images)\n",
    "    for i in range(200):\n",
    "        index = random.randint(0,int(image_count-1))\n",
    "        blur(i,3)\n",
    "        blur(i,5)\n",
    "timeit(save_loop)"
   ]
  },
  {
   "cell_type": "code",
   "execution_count": 21,
   "metadata": {},
   "outputs": [
    {
     "name": "stdout",
     "output_type": "stream",
     "text": [
      "process took 16.460644 seconds.\n"
     ]
    }
   ],
   "source": [
    "import random\n",
    "from multiprocessing import Pool\n",
    "\n",
    "def save_multiprocessing():\n",
    "    pool = Pool(10)\n",
    "    image_count = len(ds.images)\n",
    "    indices = [(random.randint(0,int(image_count-1)),3) for i in range(600)]\n",
    "    pool.starmap(blur, indices)\n",
    "    indices = [(random.randint(0,int(image_count-1)),5) for i in range(600)]\n",
    "    pool.starmap(blur, indices)\n",
    "timeit(save_multiprocessing)"
   ]
  },
  {
   "cell_type": "code",
   "execution_count": 20,
   "metadata": {},
   "outputs": [
    {
     "name": "stdout",
     "output_type": "stream",
     "text": [
      "process took 17.336391 seconds.\n"
     ]
    }
   ],
   "source": [
    "import random\n",
    "from multiprocessing.pool import ThreadPool\n",
    "def save_multithreading():\n",
    "    pool = ThreadPool(10)\n",
    "    image_count = len(ds.images)\n",
    "    indices = [(random.randint(0,int(image_count-1)),3) for i in range(600)]\n",
    "    pool.starmap(blur, indices)\n",
    "    indices = [(random.randint(0,int(image_count-1)),5) for i in range(600)]\n",
    "    pool.starmap(blur, indices)\n",
    "timeit(save_multithreading)"
   ]
  },
  {
   "attachments": {},
   "cell_type": "markdown",
   "metadata": {},
   "source": [
    "Where should we use multithreading? What about multiprocessing?"
   ]
  }
 ],
 "metadata": {
  "colab": {
   "collapsed_sections": [],
   "name": "image_processing.ipynb",
   "provenance": []
  },
  "kernelspec": {
   "display_name": "AIMO38",
   "language": "python",
   "name": "python3"
  },
  "language_info": {
   "codemirror_mode": {
    "name": "ipython",
    "version": 3
   },
   "file_extension": ".py",
   "mimetype": "text/x-python",
   "name": "python",
   "nbconvert_exporter": "python",
   "pygments_lexer": "ipython3",
   "version": "3.8.13"
  },
  "vscode": {
   "interpreter": {
    "hash": "bcc1ff0980251ae7058ee449bbfb4ee495bd8e69206f5d78d7f92f80a18c9032"
   }
  }
 },
 "nbformat": 4,
 "nbformat_minor": 0
}
