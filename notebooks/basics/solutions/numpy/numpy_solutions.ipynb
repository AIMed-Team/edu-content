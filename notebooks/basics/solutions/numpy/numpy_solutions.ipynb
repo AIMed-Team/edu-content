{
  "nbformat": 4,
  "nbformat_minor": 0,
  "metadata": {
    "colab": {
      "name": "numpy_solutions.ipynb",
      "provenance": [],
      "collapsed_sections": []
    },
    "kernelspec": {
      "name": "python3",
      "display_name": "Python 3"
    },
    "language_info": {
      "name": "python"
    }
  },
  "cells": [
    {
      "cell_type": "code",
      "execution_count": 1,
      "metadata": {
        "id": "mxagwtTsGnGF"
      },
      "outputs": [],
      "source": [
        "import numpy as np"
      ]
    },
    {
      "cell_type": "markdown",
      "source": [
        "1. read array from text\n",
        "2. save as npy\n",
        "3. read from npy"
      ],
      "metadata": {
        "id": "ZDgHY0JPJ3z9"
      }
    },
    {
      "cell_type": "code",
      "source": [
        "text_path = 'https://archive.ics.uci.edu/ml/machine-learning-databases/iris/iris.data'\n",
        "arr = np.genfromtxt(text_path, delimiter=',', dtype='object')\n",
        "np.save('file.npy',arr)\n",
        "np.load('/content/file.npy',allow_pickle=True)"
      ],
      "metadata": {
        "id": "VO4_RCQtxEPn"
      },
      "execution_count": null,
      "outputs": []
    },
    {
      "cell_type": "markdown",
      "source": [
        "stack an array to matrix vertically and horizontally"
      ],
      "metadata": {
        "id": "Aq8b5pPMHOiW"
      }
    },
    {
      "cell_type": "code",
      "source": [
        "a = np.random.randint(0,100,size=(3,3))\n",
        "b = np.random.randint(0,100,size=(1,3))\n",
        "print(np.vstack([a,b])) # horizontal\n",
        "np.hstack([a,b.T]) # vertical"
      ],
      "metadata": {
        "id": "XREuZ15KHTyL"
      },
      "execution_count": null,
      "outputs": []
    },
    {
      "cell_type": "markdown",
      "source": [
        "replace items that satisfy a condition with another value"
      ],
      "metadata": {
        "id": "NvCK72vlHbYv"
      }
    },
    {
      "cell_type": "code",
      "source": [
        "a = np.random.randint(0,100,size=(10,10))\n",
        "print(a)\n",
        "print(a > 20)\n",
        "a[a>20] = -1\n",
        "print(a)"
      ],
      "metadata": {
        "id": "8jDWK9F3Hcw2"
      },
      "execution_count": null,
      "outputs": []
    },
    {
      "cell_type": "markdown",
      "source": [
        "get the intersection between two python numpy arrays\n"
      ],
      "metadata": {
        "id": "X6v6gwjiHwkU"
      }
    },
    {
      "cell_type": "code",
      "source": [
        "a = np.arange(10)\n",
        "b = np.arange(5) * 2\n",
        "intersection = np.intersect1d(a,b)\n",
        "print(intersection)"
      ],
      "metadata": {
        "id": "H6sHSfHYxfQf",
        "colab": {
          "base_uri": "https://localhost:8080/"
        },
        "outputId": "7a4adade-ac78-434b-b17b-25bfbac441ca"
      },
      "execution_count": null,
      "outputs": [
        {
          "output_type": "stream",
          "name": "stdout",
          "text": [
            "[0 2 4 6 8]\n"
          ]
        }
      ]
    },
    {
      "cell_type": "markdown",
      "source": [
        "remove itema of an array from another array"
      ],
      "metadata": {
        "id": "wVCfodgxH5BZ"
      }
    },
    {
      "cell_type": "code",
      "source": [
        "a = np.arange(10)\n",
        "b = np.arange(5) * 2\n",
        "differences = np.setdiff1d(a,b)\n",
        "print(differences)"
      ],
      "metadata": {
        "id": "PRSgpbHoxf-g"
      },
      "execution_count": null,
      "outputs": []
    },
    {
      "cell_type": "markdown",
      "source": [
        "extract all elements between a given range"
      ],
      "metadata": {
        "id": "SeZIR_9xIGqK"
      }
    },
    {
      "cell_type": "code",
      "source": [
        "a = np.arange(10)\n",
        "b = a[(a >= 5) & (a <= 10)]\n",
        "print(b)"
      ],
      "metadata": {
        "id": "UkO9qd36xgrP"
      },
      "execution_count": null,
      "outputs": []
    },
    {
      "cell_type": "markdown",
      "source": [
        "change columns order in a 2d numpy array"
      ],
      "metadata": {
        "id": "HCuUnuPgIZ3z"
      }
    },
    {
      "cell_type": "code",
      "source": [
        "a = np.arange(12).reshape((3,4))\n",
        "print(a)\n",
        "new_index = [3,0,1,2]\n",
        "print(a[:,new_index])"
      ],
      "metadata": {
        "id": "9SzZFCLXxhT3",
        "colab": {
          "base_uri": "https://localhost:8080/"
        },
        "outputId": "b38cab58-99b1-4ea6-fb79-511c282e66b7"
      },
      "execution_count": null,
      "outputs": [
        {
          "output_type": "stream",
          "name": "stdout",
          "text": [
            "[[ 0  1  2  3]\n",
            " [ 4  5  6  7]\n",
            " [ 8  9 10 11]]\n",
            "[[ 3  0  1  2]\n",
            " [ 7  4  5  6]\n",
            " [11  8  9 10]]\n"
          ]
        }
      ]
    },
    {
      "cell_type": "markdown",
      "source": [
        "count elements"
      ],
      "metadata": {
        "id": "AGoVfz3rKzSS"
      }
    },
    {
      "cell_type": "code",
      "source": [
        "a = np.random.randint(0,100,size=(100,100))\n",
        "print(np.unique(a,return_counts=True)[0]) #data \n",
        "print(np.unique(a,return_counts=True)[1]) #count"
      ],
      "metadata": {
        "id": "MPv9Bfiexi0e",
        "colab": {
          "base_uri": "https://localhost:8080/"
        },
        "outputId": "63beb07c-fb32-4190-9207-ed04f719ed31"
      },
      "execution_count": null,
      "outputs": [
        {
          "output_type": "stream",
          "name": "stdout",
          "text": [
            "[ 0  1  2  3  4  5  6  7  8  9 10 11 12 13 14 15 16 17 18 19 20 21 22 23\n",
            " 24 25 26 27 28 29 30 31 32 33 34 35 36 37 38 39 40 41 42 43 44 45 46 47\n",
            " 48 49 50 51 52 53 54 55 56 57 58 59 60 61 62 63 64 65 66 67 68 69 70 71\n",
            " 72 73 74 75 76 77 78 79 80 81 82 83 84 85 86 87 88 89 90 91 92 93 94 95\n",
            " 96 97 98 99]\n",
            "[103 108  94  85  99 110 103 101  84 100  99 116 120 110  95  81 100 108\n",
            " 114 109  99  93 112  99 105 103 120  90  97 107  75  97 116 107 107 111\n",
            " 103  99  95 116  94 111  90 106  90 117 120  94 109 102 117 102  91 112\n",
            "  86 105 120 104  91  96  95  91  92 108 104  83 108  90 103  99  92  84\n",
            "  92 105  97  92 103  73  92  99 105 101  96 104 107  81  81  85  99  92\n",
            "  95 115 106 101  92 116  86 103 103  83]\n"
          ]
        }
      ]
    },
    {
      "cell_type": "markdown",
      "source": [
        "sort by column"
      ],
      "metadata": {
        "id": "6I_2ofsyLDwM"
      }
    },
    {
      "cell_type": "code",
      "source": [
        "a = np.random.randint(0,100,size=(10,10))\n",
        "print(a[a[:,3].argsort()]) # sort based on column 3"
      ],
      "metadata": {
        "id": "r4DVtEVQxjRu",
        "colab": {
          "base_uri": "https://localhost:8080/"
        },
        "outputId": "b35690fa-ba83-4c8b-bb6a-8870b8583af9"
      },
      "execution_count": null,
      "outputs": [
        {
          "output_type": "execute_result",
          "data": {
            "text/plain": [
              "array([[42, 71, 42,  4, 94, 21, 30, 44, 49, 52],\n",
              "       [16, 18, 37, 11, 77, 24, 28, 88, 83, 41],\n",
              "       [ 0, 72, 59, 22, 24, 40, 54,  7, 34, 22],\n",
              "       [76, 12, 68, 57, 39, 91, 34, 38, 84, 77],\n",
              "       [67, 54, 74, 59, 36, 48, 65, 88, 93, 90],\n",
              "       [81, 71, 32, 71, 97, 35, 31, 85, 13, 78],\n",
              "       [34, 26, 52, 73, 16, 64, 67, 45, 58, 92],\n",
              "       [30, 48,  8, 77, 35,  5, 75,  8, 99, 73],\n",
              "       [44, 35, 88, 95, 29, 80, 61, 19, 48, 40],\n",
              "       [79, 51, 85, 97, 35, 76, 88,  1, 93, 41]])"
            ]
          },
          "metadata": {},
          "execution_count": 67
        }
      ]
    },
    {
      "cell_type": "markdown",
      "source": [
        "generate one hot encoding"
      ],
      "metadata": {
        "id": "Yg-H7qbgLUiq"
      }
    },
    {
      "cell_type": "code",
      "source": [
        "a = np.random.randint(0,100,size=(10,10))\n",
        "values = np.unique(a)\n",
        "bit_count = len(values)\n",
        "one_hot = np.zeros((10,10,bit_count))\n",
        "for i in range(len(a)):\n",
        "    for j in range(len(a[0])):\n",
        "        index = np.where(values==a[i][j])[0][0]\n",
        "        one_hot[i,j][index] = 1\n",
        "print(one_hot)"
      ],
      "metadata": {
        "id": "Q4DHr86Cxjzq"
      },
      "execution_count": null,
      "outputs": []
    },
    {
      "cell_type": "markdown",
      "source": [
        "numpy broadcasting"
      ],
      "metadata": {
        "id": "_oPNReOXRFC-"
      }
    },
    {
      "cell_type": "code",
      "source": [
        "a = np.random.randint(0,100,size=(10,10))\n",
        "b = np.random.randint(0,100,size=(10,1))\n",
        "print(a-b)\n",
        "a = np.random.randint(0,100,size=(10,10))\n",
        "b = 2\n",
        "print(a-b)\n"
      ],
      "metadata": {
        "id": "JZAbmgfyxkoH",
        "colab": {
          "base_uri": "https://localhost:8080/"
        },
        "outputId": "a7654d94-fda9-4575-c122-696ef46e88e3"
      },
      "execution_count": 3,
      "outputs": [
        {
          "output_type": "stream",
          "name": "stdout",
          "text": [
            "[[ 10 -35  14 -40   7 -36  26 -10   1 -63]\n",
            " [ 24 -21 -39 -34 -18  59 -19  40  40  13]\n",
            " [-46 -19 -34 -42 -56 -54  -9 -36 -33  13]\n",
            " [-61 -46 -30 -16 -90 -65 -31  -5 -92 -31]\n",
            " [-12  21  11  -6  25  15  40  39  52  72]\n",
            " [  1  64  80  11  28  52   2   2   4  93]\n",
            " [-10 -25  10  -8  24  55  21  45  10 -20]\n",
            " [  1   1 -35  -1 -17 -12   1  -5 -54 -43]\n",
            " [ -5  13   0  -7  47  16  -9  -6  44 -12]\n",
            " [ 80  72  83  71  42  38  74   2  94  30]]\n",
            "[[81 54 34 77 11 72 30 85 46 64]\n",
            " [88 35 47 71 73 66 15 31 42 95]\n",
            " [65 47 23 37 49 65  4 20 -1 24]\n",
            " [47 69  7  2 90 27 24 86 17 61]\n",
            " [87 97 11 69 41 21 36 30 60 79]\n",
            " [40 60 -2 24 20 49  9 48 51 74]\n",
            " [75 22 35 45 76 72 94 36 82 87]\n",
            " [73 67 63  2 48 51 17 76 48 50]\n",
            " [82 18 40 36 11 -1 93  5 41 75]\n",
            " [ 2 20  5 40 37 33 32 31 28 69]]\n"
          ]
        }
      ]
    },
    {
      "cell_type": "markdown",
      "source": [
        "arithmetic operation"
      ],
      "metadata": {
        "id": "sg5HaH88KOmt"
      }
    },
    {
      "cell_type": "code",
      "source": [
        "a = np.random.randint(0,100,size=(10,10))\n",
        "b = np.random.randint(1,100,size=(10,10))\n",
        "print(a+b)\n",
        "print(a-b)\n",
        "print(a*b)\n",
        "print(a/b)"
      ],
      "metadata": {
        "id": "eZUbTr3cxlMr",
        "colab": {
          "base_uri": "https://localhost:8080/"
        },
        "outputId": "7d678aa9-302c-46a4-916c-fa92f613087f"
      },
      "execution_count": 5,
      "outputs": [
        {
          "output_type": "stream",
          "name": "stdout",
          "text": [
            "[[ 90 178 107  50  65 143 131 186 127  83]\n",
            " [ 84  27  11  62  92  19 149 109 135 103]\n",
            " [105  45  81  84  57 110  79  76  64 111]\n",
            " [ 95  38  15 140  57 155 172 135  45  65]\n",
            " [134 157 108 133  15  94 151 100  63  41]\n",
            " [ 68  62  95  41  95  25  86 122  50 139]\n",
            " [100 115  95 119 154  89  92 105 125 107]\n",
            " [ 36  92  56  90  81 143 122  88 107 105]\n",
            " [126 156  32 197 140  80  98 113 150 113]\n",
            " [148  89  88 145  80 141  46  66  96  34]]\n",
            "[[-68   4  87   2 -55 -21 -33   8   5  11]\n",
            " [  0  23  -7 -58  34  -3 -39  -3  45 -91]\n",
            " [-31   5 -81  64 -49 -68   9 -42 -46 -23]\n",
            " [ 61 -18  -5 -14   3 -37 -10 -21  33  -7]\n",
            " [ 26   3  -6 -11   1 -68   1 -26  11   7]\n",
            " [  6  54  33 -33 -33   7  40 -70  42  37]\n",
            " [-28 -65 -73  31   6 -73  24  51 -37 -57]\n",
            " [ 20 -58  48 -44  51 -23  76 -40 -73 -53]\n",
            " [-20  14  28   1 -40 -34  12  -7 -14 -39]\n",
            " [ 34  21  -4 -25 -26  15 -26  36 -24 -28]]\n",
            "[[ 869 7917  970  624  300 5002 4018 8633 4026 1692]\n",
            " [1764   50   18  120 1827   88 5170 2968 4050  582]\n",
            " [2516  500    0  740  212 1869 1540 1003  495 2948]\n",
            " [1326  280   50 4851  810 5664 7371 4446  234 1044]\n",
            " [4320 6160 2907 4392   56 1053 5700 2331  962  408]\n",
            " [1147  232 1984  148 1984  144 1449 2496  184 4488]\n",
            " [2304 2250  924 3300 5920  648 1972 2106 3564 2050]\n",
            " [ 224 1275  208 1541  990 4980 2277 1536 1530 2054]\n",
            " [3869 6035   60 9702 4500 1311 2365 3180 5576 2812]\n",
            " [5187 1870 1932 5100 1431 4914  360  765 2160   93]]\n",
            "[[ 0.13924051  1.04597701  9.7         1.08333333  0.08333333  0.74390244\n",
            "   0.59756098  1.08988764  1.08196721  1.30555556]\n",
            " [ 1.         12.5         0.22222222  0.03333333  2.17241379  0.72727273\n",
            "   0.58510638  0.94642857  2.          0.06185567]\n",
            " [ 0.54411765  1.25        0.          7.4         0.0754717   0.23595506\n",
            "   1.25714286  0.28813559  0.16363636  0.65671642]\n",
            " [ 4.58823529  0.35714286  0.5         0.81818182  1.11111111  0.61458333\n",
            "   0.89010989  0.73076923  6.5         0.80555556]\n",
            " [ 1.48148148  1.03896104  0.89473684  0.84722222  1.14285714  0.16049383\n",
            "   1.01333333  0.58730159  1.42307692  1.41176471]\n",
            " [ 1.19354839 14.5         2.06451613  0.10810811  0.484375    1.77777778\n",
            "   2.73913043  0.27083333 11.5         1.7254902 ]\n",
            " [ 0.5625      0.27777778  0.13095238  1.70454545  1.08108108  0.09876543\n",
            "   1.70588235  2.88888889  0.54320988  0.30487805]\n",
            " [ 3.5         0.22666667 13.          0.34328358  4.4         0.72289157\n",
            "   4.30434783  0.375       0.18888889  0.32911392]\n",
            " [ 0.7260274   1.1971831  15.          1.01020408  0.55555556  0.40350877\n",
            "   1.27906977  0.88333333  0.82926829  0.48684211]\n",
            " [ 1.59649123  1.61764706  0.91304348  0.70588235  0.50943396  1.23809524\n",
            "   0.27777778  3.4         0.6         0.09677419]]\n"
          ]
        }
      ]
    },
    {
      "cell_type": "markdown",
      "source": [
        "max values of columns"
      ],
      "metadata": {
        "id": "F737U7-wMrzy"
      }
    },
    {
      "cell_type": "code",
      "source": [
        "a = np.random.randint(0,100,size=(10,10))\n",
        "print(a)\n",
        "print(np.amax(a,axis=0)) # 0 for col 1 for row "
      ],
      "metadata": {
        "id": "LT4D4yjwxl5i",
        "colab": {
          "base_uri": "https://localhost:8080/"
        },
        "outputId": "2efe3f0b-4b1c-42aa-c0c4-a94e395e174a"
      },
      "execution_count": 6,
      "outputs": [
        {
          "output_type": "stream",
          "name": "stdout",
          "text": [
            "[[74 29 28 11 99 50 94 83 97 73]\n",
            " [ 2 19 62 27 91 57 15  0 98 69]\n",
            " [75 86 81 59 29 49  1  3 78 52]\n",
            " [67 90  8 68 38 77 47 95 66 20]\n",
            " [89 99  6 54 22 65 24 53 75 82]\n",
            " [70 48 98 19 13 45 75 13 69 88]\n",
            " [28  1 29 15  5 71 58 91 75 77]\n",
            " [95 81 37 34 66 88  2  9 12 33]\n",
            " [50 23 86 80 62 46 25 28 95 23]\n",
            " [ 7 82 75 81 51 22 83 52 15 64]]\n",
            "[95 99 98 81 99 88 94 95 98 88]\n"
          ]
        }
      ]
    },
    {
      "cell_type": "markdown",
      "source": [
        "check array equality"
      ],
      "metadata": {
        "id": "5ml1jabtKASF"
      }
    },
    {
      "cell_type": "code",
      "source": [
        "a = np.random.randint(0,100,size=(10,10))\n",
        "b = a + np.random.rand(10,10) * 1e-6\n",
        "print(a-b)\n",
        "np.allclose(a,b,atol=1e-5)"
      ],
      "metadata": {
        "id": "2SwYmQYYxmkk",
        "colab": {
          "base_uri": "https://localhost:8080/"
        },
        "outputId": "0c69d63c-348d-46c9-e6b5-803659ff85ed"
      },
      "execution_count": 25,
      "outputs": [
        {
          "output_type": "stream",
          "name": "stdout",
          "text": [
            "[[-1.26445663e-08 -6.58008005e-07 -1.02242865e-07 -5.47877633e-07\n",
            "  -7.93865063e-08 -1.70871949e-07 -7.26900028e-07 -1.06834364e-09\n",
            "  -4.70375937e-07 -6.56350092e-07]\n",
            " [-1.76913538e-07 -8.45903898e-07 -9.57245732e-08 -2.97325187e-07\n",
            "  -5.58811074e-07 -3.41782879e-07 -9.87414474e-07 -9.74521202e-07\n",
            "  -5.29563671e-07 -7.29567972e-07]\n",
            " [-6.03957474e-07 -7.96866125e-07 -4.33304777e-07 -5.60491465e-07\n",
            "  -8.11025522e-08 -7.07274239e-10 -1.97026198e-07 -7.55636620e-09\n",
            "  -8.48557065e-07 -2.26685295e-07]\n",
            " [-4.21914063e-07 -6.65508981e-08 -9.08814965e-07 -2.56023512e-07\n",
            "  -7.53916858e-07 -8.06983792e-07 -9.86670287e-07 -9.70603168e-07\n",
            "  -6.36795392e-07 -9.20729697e-07]\n",
            " [-5.31153209e-07 -3.53329366e-07 -1.38553176e-07 -1.83723152e-07\n",
            "  -3.94262116e-08 -8.55937275e-07 -3.43371607e-07 -5.04920592e-07\n",
            "  -4.82102678e-08 -4.20591334e-07]\n",
            " [-1.39187165e-07 -4.37494649e-07 -3.64646837e-07 -4.27938105e-07\n",
            "  -1.44174919e-07 -6.93649710e-07 -8.32878655e-07 -4.19684071e-07\n",
            "  -3.93690179e-07 -1.79903410e-07]\n",
            " [-9.37215368e-07 -2.14787299e-07 -2.70435901e-07 -5.42733549e-07\n",
            "  -8.66697434e-07 -1.07147351e-07 -8.38087857e-08 -7.98219961e-07\n",
            "  -9.47668227e-07 -6.20323423e-07]\n",
            " [-4.61954528e-08 -3.58186796e-07 -6.20112161e-07 -5.90136437e-08\n",
            "  -4.58581759e-07 -2.96463440e-08 -3.71494160e-08 -2.95964966e-07\n",
            "  -5.37779485e-07 -9.12578557e-07]\n",
            " [-1.16606742e-07 -5.43867316e-07 -3.85912507e-07 -1.41604666e-07\n",
            "  -2.89928295e-07 -2.97845212e-07 -8.43704534e-07 -1.22180950e-08\n",
            "  -7.05420902e-07 -5.41231230e-07]\n",
            " [-8.23213540e-07 -1.71034330e-07 -4.02960382e-07 -6.52580624e-07\n",
            "  -8.32744718e-09 -5.52129748e-07 -2.62375110e-07 -6.87711029e-07\n",
            "  -2.66816656e-07 -3.61775086e-07]]\n"
          ]
        },
        {
          "output_type": "execute_result",
          "data": {
            "text/plain": [
              "True"
            ]
          },
          "metadata": {},
          "execution_count": 25
        }
      ]
    },
    {
      "cell_type": "markdown",
      "source": [
        "matrix multiplication"
      ],
      "metadata": {
        "id": "EWuqFYubKR1C"
      }
    },
    {
      "cell_type": "code",
      "source": [
        "a = np.random.randint(0,100,size=(6,8))\n",
        "b = np.random.randint(0,100,size=(8,10))\n",
        "c = a @ b\n",
        "print(c.shape)\n",
        "print(c)"
      ],
      "metadata": {
        "id": "Qu6RODaCxnQ3",
        "colab": {
          "base_uri": "https://localhost:8080/"
        },
        "outputId": "578f9fa3-37f3-4f86-a9f1-cfff0a85aeeb"
      },
      "execution_count": 26,
      "outputs": [
        {
          "output_type": "stream",
          "name": "stdout",
          "text": [
            "(6, 10)\n",
            "[[25288 27321 29446 14511 20307 14473 20466 27719 21975 21413]\n",
            " [17599 17883 20935 14212 16275  8450 13598 20114 13882 11368]\n",
            " [32829 36242 36163 19929 31769 23285 26771 37599 25288 30227]\n",
            " [22708 26322 23890 11625 21578 17268 19588 25626 16443 23737]\n",
            " [16523 18736 18315  9807 15515 11387 13486 17895 12104 16508]\n",
            " [27075 26769 30413 17316 21743 19047 20645 28790 25230 20812]]\n"
          ]
        }
      ]
    }
  ]
}