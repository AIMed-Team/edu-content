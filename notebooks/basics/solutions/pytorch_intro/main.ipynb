{
 "cells": [
  {
   "cell_type": "code",
   "execution_count": 1,
   "metadata": {},
   "outputs": [],
   "source": [
    "import numpy as np\n",
    "import torch\n",
    "from torch import nn\n",
    "from torch.nn import functional as F\n",
    "from torchvision import transforms, datasets"
   ]
  },
  {
   "cell_type": "markdown",
   "metadata": {},
   "source": [
    "### What is Tensor?\n",
    "tensor is mostly same as numpy array (even its applications like broadcasting operation, indexing, slicing and etc), except for it brings us the opportunity to run operations on faster hardwares like GPU. let's see some tensor defintion"
   ]
  },
  {
   "cell_type": "code",
   "execution_count": 2,
   "metadata": {},
   "outputs": [
    {
     "name": "stdout",
     "output_type": "stream",
     "text": [
      "cpu\n"
     ]
    }
   ],
   "source": [
    "arr = torch.zeros((256, 256), dtype=torch.int32)\n",
    "\n",
    "# tensors are defined by default at CPU\n",
    "print(arr.device)\n",
    "\n",
    "# keep 'size', 'dtype' and 'device' same as arr, but fill with 1\n",
    "arr2 = torch.ones_like(arr)\n",
    "\n",
    "# keep 'dtype' and 'device' same as arr, but fill data arbitrarily\n",
    "arr3 = arr.new_tensor([[1, 2], [3, 4]])"
   ]
  },
  {
   "cell_type": "markdown",
   "metadata": {},
   "source": [
    "in order to feed tensors to deep-learning models, they should follow a customary shape form; `B C H W` for 4D tensors where `B` is batch size, `C` is channel dimension and `H W` are spatial dimensions."
   ]
  },
  {
   "cell_type": "markdown",
   "metadata": {},
   "source": [
    "#### Device determination\n",
    "first we need to determine which device all torch tensors (including the input, learning weights and etc) are going to be allocated. basically, GPU is the first priority."
   ]
  },
  {
   "cell_type": "code",
   "execution_count": 3,
   "metadata": {},
   "outputs": [],
   "source": [
    "device = torch.device('cuda' if torch.cuda.is_available() else 'cpu')"
   ]
  },
  {
   "cell_type": "markdown",
   "metadata": {},
   "source": [
    "#### Pseudo random generation\n",
    "it is often recommended to generate **pseudo** random numbers as it provides fair comparison between different configs of deep learning model(s). torch provides this by `torch.manual_seed`."
   ]
  },
  {
   "cell_type": "code",
   "execution_count": 4,
   "metadata": {},
   "outputs": [
    {
     "data": {
      "text/plain": [
       "<torch._C.Generator at 0x7fa014197470>"
      ]
     },
     "execution_count": 4,
     "metadata": {},
     "output_type": "execute_result"
    }
   ],
   "source": [
    "np.random.seed(12345)\n",
    "\n",
    "# same seed on all devices; both CPU and CUDA\n",
    "torch.manual_seed(12345)"
   ]
  },
  {
   "cell_type": "markdown",
   "metadata": {},
   "source": [
    "## Build model\n",
    "pytorch models are defined as python classes inherited from `torch.nn.Module`. two functions are essential for model creation:\n",
    "1. learning weights and network layers used by model are defined within `__init__()`.\n",
    "2. forwarding procedure of model are developed within `forward()`.\n",
    "\n",
    "let's create a multi-classification model (five label) with this schema: `Conv` -> `ReLU` -> `Batchnorm` -> `Conv` -> `ReLU` -> `Batchnorm` -> `Adaptive average pooling` -> `dropout` -> `fully connected`. suppose input has one channel and `forward()` will only return output of the model"
   ]
  },
  {
   "cell_type": "code",
   "execution_count": 5,
   "metadata": {},
   "outputs": [],
   "source": [
    "class Model(nn.Module):\n",
    "    \n",
    "    def __init__(self):\n",
    "        super().__init__()\n",
    "        self.conv = nn.Sequential(\n",
    "                        nn.Conv2d(1, 32, 3, 1),\n",
    "                        nn.ReLU(),\n",
    "                        nn.BatchNorm2d(32),\n",
    "                        nn.Conv2d(32, 64, 3, 1),\n",
    "                        nn.ReLU(),\n",
    "                        nn.BatchNorm2d(64),\n",
    "                    )\n",
    "        self.glob_avg_pool = nn.AdaptiveAvgPool2d((1, 1))\n",
    "        self.fc = nn.Sequential(\n",
    "                    nn.Dropout(0.5),\n",
    "                    nn.Linear(64, 10),\n",
    "                )\n",
    "        \n",
    "    def forward(self, x: torch.Tensor) -> torch.Tensor:\n",
    "        x = self.conv(x)\n",
    "        x = self.glob_avg_pool(x)\n",
    "        x = x.flatten(1)\n",
    "        x = self.fc(x)\n",
    "        \n",
    "        return x"
   ]
  },
  {
   "cell_type": "markdown",
   "metadata": {},
   "source": [
    "#### set model device\n",
    "in order to explicitly transfer model (or tensors) to another device, pytorch provides `.to(device)`"
   ]
  },
  {
   "cell_type": "code",
   "execution_count": 6,
   "metadata": {},
   "outputs": [
    {
     "data": {
      "text/plain": [
       "Model(\n",
       "  (conv): Sequential(\n",
       "    (0): Conv2d(1, 32, kernel_size=(3, 3), stride=(1, 1))\n",
       "    (1): ReLU()\n",
       "    (2): BatchNorm2d(32, eps=1e-05, momentum=0.1, affine=True, track_running_stats=True)\n",
       "    (3): Conv2d(32, 64, kernel_size=(3, 3), stride=(1, 1))\n",
       "    (4): ReLU()\n",
       "    (5): BatchNorm2d(64, eps=1e-05, momentum=0.1, affine=True, track_running_stats=True)\n",
       "  )\n",
       "  (glob_avg_pool): AdaptiveAvgPool2d(output_size=(1, 1))\n",
       "  (fc): Sequential(\n",
       "    (0): Dropout(p=0.5, inplace=False)\n",
       "    (1): Linear(in_features=64, out_features=10, bias=True)\n",
       "  )\n",
       ")"
      ]
     },
     "execution_count": 6,
     "metadata": {},
     "output_type": "execute_result"
    }
   ],
   "source": [
    "model = Model()\n",
    "\n",
    "model.to(device)"
   ]
  },
  {
   "cell_type": "markdown",
   "metadata": {},
   "source": [
    "#### Model phases\n",
    "there are two states for a model: `.train()` and `.eval()`. models are by default at `.train()` phase, however the difference between these two is that in `eval()` phase, some layers change their behavior during inference; for instance dropout will be deactivated and batch normalization will not update estimated mean and variance during evaluation and they will be used only for normalization.\n",
    "during validation and test phases, besides `model.eval()` we should assure that back propagation is temporarily deactivated and this is possible by `torch.no_grad()`. this actually enables us to use bigger batch sizes during evaluation as it speeds up the computation and reduces memory usage by disabling gradient calculation (setting `requires_grad` attributes to `False`)."
   ]
  },
  {
   "cell_type": "markdown",
   "metadata": {},
   "source": [
    "## Data operation"
   ]
  },
  {
   "cell_type": "markdown",
   "metadata": {},
   "source": [
    "#### Data transformation\n",
    "PIL images should first be transformed to torch tensors. `torchvision.transforms.Compose` provides a pipeline of transforms. in the following 'converting to tensors' is only applied."
   ]
  },
  {
   "cell_type": "code",
   "execution_count": 7,
   "metadata": {},
   "outputs": [],
   "source": [
    "transform = transforms.Compose([\n",
    "    transforms.ToTensor()\n",
    "])"
   ]
  },
  {
   "cell_type": "markdown",
   "metadata": {},
   "source": [
    "#### Download data\n",
    "evaluation is not purpose of this notebook therefore you only need to load **train** set of MNIST dataset using `torchvision.datasets.MNIST`."
   ]
  },
  {
   "cell_type": "code",
   "execution_count": 8,
   "metadata": {},
   "outputs": [],
   "source": [
    "train = datasets.MNIST(\n",
    "               root='data',\n",
    "               train=True, \n",
    "               transform=transform,\n",
    "               download=True)"
   ]
  },
  {
   "cell_type": "markdown",
   "metadata": {},
   "source": [
    "#### Data loader\n",
    "define train loader using `torch.utils.data.DataLoader`."
   ]
  },
  {
   "cell_type": "code",
   "execution_count": 9,
   "metadata": {},
   "outputs": [],
   "source": [
    "batch_size = 32\n",
    "\n",
    "train_loader = torch.utils.data.DataLoader(\n",
    "                    dataset=train,\n",
    "                    batch_size=batch_size,\n",
    "                    shuffle=True)"
   ]
  },
  {
   "cell_type": "markdown",
   "metadata": {},
   "source": [
    "## Training\n",
    "here we are going to develop training process of MNIST classification"
   ]
  },
  {
   "cell_type": "markdown",
   "metadata": {},
   "source": [
    "#### Optimizer\n",
    "define your optimizer, use `torch.optim`."
   ]
  },
  {
   "cell_type": "code",
   "execution_count": 10,
   "metadata": {},
   "outputs": [],
   "source": [
    "optimizer = torch.optim.Adam(model.parameters(), lr=1e-4)"
   ]
  },
  {
   "cell_type": "markdown",
   "metadata": {},
   "source": [
    "#### Procedure\n",
    "implement the procedure of training in the following cell. please note **evaluation is not purpose of this notebook**, therefore only report the training loss changes. consider cross entropy as loss function and compute it without using pre-defined APIs. \n",
    "the backpropagation consists of three sub-parts: \n",
    "1. gradient computation\n",
    "2. updating learning parameters\n",
    "3. removing current computed gradients for next iteration\n",
    "\n",
    "fortunately we don't need to implement them from sctrach as pytorch provides APIs for them."
   ]
  },
  {
   "cell_type": "code",
   "execution_count": 11,
   "metadata": {},
   "outputs": [
    {
     "name": "stdout",
     "output_type": "stream",
     "text": [
      "Epoch 1: average loss after 200 iteration is 2.157982110977173\n",
      "Epoch 1: average loss after 400 iteration is 2.090942144393921\n",
      "Epoch 1: average loss after 600 iteration is 2.034151077270508\n",
      "Epoch 1: average loss after 800 iteration is 1.9887149333953857\n",
      "Epoch 1: average loss after 1000 iteration is 1.9475260972976685\n",
      "Epoch 1: average loss after 1200 iteration is 1.9116764068603516\n",
      "Epoch 1: average loss after 1400 iteration is 1.8755967617034912\n",
      "Epoch 1: average loss after 1600 iteration is 1.842836856842041\n",
      "Epoch 1: average loss after 1800 iteration is 1.812255620956421\n",
      "Epoch 2: average loss after 200 iteration is 1.4998501539230347\n",
      "Epoch 2: average loss after 400 iteration is 1.4850534200668335\n",
      "Epoch 2: average loss after 600 iteration is 1.4689152240753174\n",
      "Epoch 2: average loss after 800 iteration is 1.451676368713379\n",
      "Epoch 2: average loss after 1000 iteration is 1.4342695474624634\n",
      "Epoch 2: average loss after 1200 iteration is 1.41796875\n",
      "Epoch 2: average loss after 1400 iteration is 1.4022103548049927\n",
      "Epoch 2: average loss after 1600 iteration is 1.3869268894195557\n",
      "Epoch 2: average loss after 1800 iteration is 1.3722786903381348\n",
      "Epoch 3: average loss after 200 iteration is 1.2157230377197266\n",
      "Epoch 3: average loss after 400 iteration is 1.2037761211395264\n",
      "Epoch 3: average loss after 600 iteration is 1.1866754293441772\n",
      "Epoch 3: average loss after 800 iteration is 1.1747138500213623\n",
      "Epoch 3: average loss after 1000 iteration is 1.1625813245773315\n",
      "Epoch 3: average loss after 1200 iteration is 1.1456233263015747\n",
      "Epoch 3: average loss after 1400 iteration is 1.131696343421936\n",
      "Epoch 3: average loss after 1600 iteration is 1.1196773052215576\n",
      "Epoch 3: average loss after 1800 iteration is 1.1082934141159058\n"
     ]
    }
   ],
   "source": [
    "num_epochs = 3\n",
    "num_iters = len(train_loader)\n",
    "train_losses = np.zeros((num_epochs, num_iters), dtype=np.float32) \n",
    "\n",
    "for epoch in range(num_epochs):\n",
    "    for it, (X, y) in enumerate(train_loader):\n",
    "        X = X.to(device)\n",
    "        y = y.to(device)\n",
    "        x = model(X)\n",
    "        \n",
    "        x = F.log_softmax(x, -1)\n",
    "        loss = -1 * torch.mean(x[torch.arange(x.shape[0]), y])\n",
    "        train_losses[epoch, it] = loss\n",
    "        \n",
    "        loss.backward()\n",
    "        optimizer.step()\n",
    "        optimizer.zero_grad()\n",
    "        \n",
    "        if it and it % 200 == 0:\n",
    "            print(f\"Epoch {epoch + 1}: average loss after {it} iteration is {train_losses[epoch, :it].mean()}\", flush=True)"
   ]
  }
 ],
 "metadata": {
  "kernelspec": {
   "display_name": "Python 3",
   "language": "python",
   "name": "~ython3"
  },
  "language_info": {
   "codemirror_mode": {
    "name": "ipython",
    "version": 3
   },
   "file_extension": ".py",
   "mimetype": "text/x-python",
   "name": "python",
   "nbconvert_exporter": "python",
   "pygments_lexer": "ipython3",
   "version": "3.8.3"
  }
 },
 "nbformat": 4,
 "nbformat_minor": 4
}
