{
 "cells": [
  {
   "cell_type": "markdown",
   "metadata": {},
   "source": [
    "This notebook contains a roadmap for learning theoretical basis of main ML modules and approaches, and some excercises for evaluating your self. Hope to enjoy and learn :)"
   ]
  },
  {
   "cell_type": "markdown",
   "metadata": {},
   "source": [
    "Sources:\n",
    "* [SPML course in Fall 2021](https://drive.google.com/drive/folders/1hPYtFidk0rUQ9dLuWZjTf7YfNEzvP8MS?usp=sharing)\n",
    "* [AI-Med internship videos](https://drive.google.com/drive/folders/1bwxmL1xBK7WD8-GPpKQGzW4GJnamy65W?usp=sharing)\n",
    "* [Andrew Ng's ML course](https://www.youtube.com/playlist?list=PLoROMvodv4rMiGQp3WXShtMGgzqpfVfbU)\n",
    "* [Stanford Natural Language Processing with Deep Learning course | Winter 2021](https://www.youtube.com/playlist?list=PLoROMvodv4rOSH4v6133s9LFPRHjEmbmJ)"
   ]
  },
  {
   "cell_type": "markdown",
   "metadata": {},
   "source": [
    "First of all, please see the starting four sessions of famous [Andrew Ng's ML course](https://www.youtube.com/playlist?list=PLoROMvodv4rMiGQp3WXShtMGgzqpfVfbU). Then, try to answer the following questions."
   ]
  },
  {
   "cell_type": "markdown",
   "metadata": {},
   "source": [
    "## Linear Regression"
   ]
  },
  {
   "cell_type": "markdown",
   "metadata": {},
   "source": [
    "Consider the linear regression $\\hat{y}=w^T x$ on $S=\\{(x^{(i)}, y^{(i)})\\}_{i=1}^m$ with loss function $J(w)=\\sum_{i=1}^{m} (y^{(i)}-\\hat{y}^{(i)})^2$.\n",
    "\n",
    "1. Simplify $\\underset{w}{argmin}$ $J(w)$.\n",
    "2. When the formula of the previous part does not work? Simplify $\\underset{w}{argmin}$ $J(w)+\\lambda\\lVert w \\rVert^2$ and describe how this new formulat solves the problem."
   ]
  },
  {
   "cell_type": "markdown",
   "metadata": {},
   "source": [
    "Answer the following questions:\n",
    "\n",
    "1. Prove that\n",
    "$$\\frac{d\\sigma(a)}{da}=\\sigma(a)(1-\\sigma(a)).$$\n",
    "\n",
    "2. In logistic regression, we have $p(C_1|x)=\\sigma(w^T x)$. Compute the negative log-likelihood for dataset $\\{(x^{(1)}, y^{(1)}), ..., (x^{(n)}, y^{(n)})\\}$.\n",
    "\n",
    "3. Show that by computing gradient of the previous part w.r.t. $w$, we have $\\sum_{i=1}^{n}(y^{(i)}-\\hat{y}^{(i)})x^{(i)}$. compare this with MSE regression gradients.\n",
    "\n",
    "4. show that $$\\log{\\frac{p(C_1|x)}{p(C_0|x)}}=w_1^T x+w_1'$$. Generalize it to $k$ classes and see the Softmax formula.\n",
    "\n",
    "5. (optional) if $$L=-\\sum_i y_i\\log{p_i}$$ where $p_i=p(C_i|x)$, show that $\\nabla_O L(x)=y-p$, where $y$ is label one-hot vector for $x$, $p$ is the output of softmax where $p_i=p(C_i|x)$, and $$o_i=w_i^T x + w_i', 1\\leq i\\leq k.$$"
   ]
  },
  {
   "cell_type": "markdown",
   "metadata": {},
   "source": [
    "(optional) In logistic regression for $K$ classes, the posterior probability is computed in the following way\n",
    "$$\\begin{equation}\n",
    "  \\left\\{\n",
    "  \\begin{array}{@{}ll@{}}\n",
    "    P(Y=k|X=x)=\\frac{exp(w_k^T x)}{1+\\sum_{l=1}^{K-1}exp(w_l^T x)}, & (k=1, ..., K-1) \\\\\n",
    "    P(Y=K|X=x)=\\frac{1}{1+\\sum_{l=1}^{K-1}exp(w_l^T x)}\n",
    "  \\end{array}\\right.\n",
    "\\end{equation}$$\n",
    "For simplicity, consider $w_K=0$.\n",
    "\n",
    "1. How many parameters should be estimated. What are them?\n",
    "\n",
    "2. Simplify the following log-likelihood for $n$ training samples $\\{(x_1, y_1), ..., (x_n, y_n)\\}$\n",
    "$$L(w_1, ..., w_{K-1}=\\sum_{i=1}^{n}\\ln{P(Y=y_i|X=x_i)}$$\n",
    "\n",
    "3. Compute and simplify the gradient of $L$ w.r.t. each of $w_k$s.\n",
    "\n",
    "4. Consider the following objective function. Compute the gradient of $f$ w.r.t. each of $w_k$s.\n",
    "\n",
    "$$f(w_1, ..., w_{K-1})=L(w_1, ..., w_{K-1})-\\frac{\\lambda}{2}\\sum_{l=1}^{K-1}\\lVert w_l\\rVert_2^2$$"
   ]
  },
  {
   "cell_type": "markdown",
   "metadata": {},
   "source": [
    "## Backpropagation"
   ]
  },
  {
   "cell_type": "markdown",
   "metadata": {},
   "source": [
    "The source for this topic is:\n",
    "* SPML course in Fall 2021 \n",
    "    * session 3 from min 100\n",
    "    * session 4\n",
    "    * session 5 upto min 45"
   ]
  },
  {
   "cell_type": "markdown",
   "metadata": {},
   "source": [
    "### Questions"
   ]
  },
  {
   "cell_type": "markdown",
   "metadata": {},
   "source": [
    "Consider the following network:\n",
    "$$z_1=W_1 x^{(i)}+b_1$$\n",
    "$$a_1=ReLU(z_1)$$\n",
    "$$z_2=W_1 x'^{(i)}+b_1$$\n",
    "$$a_2=ReLU(z_2)$$\n",
    "$$a=a_1-a_2$$\n",
    "$$z_3=W_2 a+b_2$$\n",
    "$$\\hat{y}^{(i)}=\\sigma(z_3)$$\n",
    "$$L^{(i)}=y^{(i)}\\log{\\hat{y}}^{(i)}+(1-y^{(i)})\\log{(1-\\hat{y}^{(i)})}$$\n",
    "$$J=-\\frac{1}{m}\\sum_{i=1}^{m}L^{(i)}$$\n",
    "where inputs are $x^{(i)}\\in\\mathbb{R}^{d_x\\times1}, x'^{(i)}\\in\\mathbb{R}^{d_x\\times 1}$ and the output is $\\hat{y}\\in(0,1)$ (the label is $y^{(i)}\\in\\{0, 1\\}$). also $a\\in\\mathbb{R}^{d_a\\times 1}$. Compute the following:\n",
    "\n",
    "1. $\\frac{\\partial J}{\\partial z_3}$\n",
    "\n",
    "2. $\\frac{\\partial z_3}{\\partial a}$\n",
    "\n",
    "3. $\\frac{\\partial a}{\\partial z_1}, and \\frac{\\partial a}{\\partial z_2}$\n",
    "\n",
    "4. $\\frac{\\partial z_2}{\\partial W_1}, and \\frac{\\partial z_1}{\\partial W_1}$\n",
    "\n",
    "5. $\\frac{\\partial J}{\\partial W_1}$\n",
    "\n",
    "6. Write down the formula for updating all weights based on gradient descent."
   ]
  },
  {
   "cell_type": "markdown",
   "metadata": {},
   "source": [
    "## CNNs"
   ]
  },
  {
   "cell_type": "markdown",
   "metadata": {},
   "source": [
    "CNNs are maybe the most important module in image processing. They have some sort of inductive bias for extracting local features.\n",
    "\n",
    "The source for this topic is:\n",
    "* SPML course in Fall 2021 \n",
    "    * session 5 from min 45\n",
    "    * session 6"
   ]
  },
  {
   "cell_type": "markdown",
   "metadata": {},
   "source": [
    "### Questions"
   ]
  },
  {
   "cell_type": "markdown",
   "metadata": {},
   "source": [
    "Answer the following questions:\n",
    "1. Describe the *Sparsity of Connections* property of CNNs.\n",
    "2. Describe the *Parameter Sharing* property of CNNs.\n",
    "3. Consider an input of shape $63\\times 63\\times 16$. If *stride=2* and *padding=0*, compute the shape of the output if we have 32 $7\\times 7$ kernels.\n",
    "4. Name three advantages of using CNN over MLP.\n",
    "5. Consider a CNN network, which is trained on ImageNet. Is the output probability of the network uniform overall classes if the input is a white picture? Why?"
   ]
  },
  {
   "cell_type": "markdown",
   "metadata": {},
   "source": [
    "Complete the following table. padding and stride are equal to 1, unless explicitly states. \n",
    "\n",
    "* CONVx-N is a N filter convolution layer with height and width equal to x.\n",
    "* POOL-N is a MAX Pooling of the shape $N\\times N$, with *Stride=$N$*, and *Padding=$0$*.\n",
    "* FC-N is a fully-connected layer with N neurons.\n",
    "\n",
    "| Layer | Output Shape | # of Parameters |\n",
    "| :- | -: | :-: |\n",
    "| Input | 128$\\times$128$\\times$3 | 0 |\n",
    "| CONV-9-32 |  |  |\n",
    "| POOL-2 |  |  |\n",
    "| CONV-5-64 |  |  |\n",
    "| POOL-2 |  |  |\n",
    "| CONV-5-64 |  |  |\n",
    "| POOL-2 |  |  |\n",
    "| FC-3 |  |  |\n",
    "\n",
    "What is the number of parameters for replacing the fourth layer (CONV-5-64) with a fully-connected layer? What's your conclusion?"
   ]
  },
  {
   "cell_type": "markdown",
   "metadata": {},
   "source": [
    "If we use a GPU with 12GB RAM for running the following network, what is the maximum number of pictures we could have in a batch? (you should find the memory bottleneck)\n",
    "\n",
    "Input: 256 x 256\n",
    "\n",
    "\\[64\\] Conv 3 x 3, s=1, p=1\n",
    "\n",
    "\\[64\\] Conv 3 x 3, s=1, p=1\n",
    "\n",
    "Pool 2 x 2, s=2, p=0\n",
    "\n",
    "\\[128\\] Conv 3 x 3, s=1, p=1\n",
    "\n",
    "\\[128\\] Conv 3 x 3, s=1, p=1\n",
    "\n",
    "Pool 2 x 2, s=2, p=0\n",
    "\n",
    "\\[256\\] Conv 3 x 3, s=1, p=1\n",
    "\n",
    "\\[256\\] Conv 3 x 3, s=1, p=1\n",
    "\n",
    "Pool 2 x 2, s=2, p=0\n",
    "\n",
    "\\[512\\] Conv 3 x 3, s=1, p=1\n",
    "\n",
    "\\[512\\] Conv 3 x 3, s=1, p=1\n",
    "\n",
    "Pool 2 x 2, s=2, p=0\n",
    "\n",
    "\\[512\\] Conv 3 x 3, s=1, p=1\n",
    "\n",
    "\\[512\\] Conv 3 x 3, s=1, p=1\n",
    "Pool 2 x 2, s=2, p=0\n",
    "\n",
    "Flatten\n",
    "\n",
    "FC (4096)\n",
    "\n",
    "FC (4096)\n",
    "\n",
    "FC (2)"
   ]
  },
  {
   "cell_type": "markdown",
   "metadata": {},
   "source": [
    "Determine the receptive field of the neuron $(i, j)$ in the last convolution layer."
   ]
  },
  {
   "cell_type": "markdown",
   "metadata": {},
   "source": [
    "## RNNs"
   ]
  },
  {
   "cell_type": "markdown",
   "metadata": {},
   "source": [
    "* Stanford Natural Language Processing with Deep Learning course | Winter 2021\n",
    "    * sessions 5, 6, and 7\n",
    "* AI-Med internship videos\n",
    "    * sessions 6 and 7"
   ]
  },
  {
   "cell_type": "markdown",
   "metadata": {},
   "source": [
    "Build a neural network that gets two sequence of binary number and the output is a binary sequence that is a\n",
    "sum of the two (the length of the sequence is not fixed). For example:\n",
    "\n",
    "| Time | input 1 | input 2 | output |\n",
    "| --- | --- | --- | --- |\n",
    "| 1 | 0 | 1 | 1 |\n",
    "| 2 | 1 | 1 | 0 |\n",
    "| 3 | 1 | 1 | 1 |\n",
    "| 4 | 0 | 0 | 1 |\n",
    "\n",
    "At time 1 the network gets the least significant bit and at time 4 it gets\n",
    "the most significant bit. Evaluate you NN on large sequences."
   ]
  },
  {
   "cell_type": "markdown",
   "metadata": {},
   "source": [
    "## Generative Models"
   ]
  },
  {
   "cell_type": "markdown",
   "metadata": {},
   "source": [
    "Generative models are models that are used for generating fake data (image, text, video, etc.). We want that this fake geenrated data seems real to humans and even other intelligent systems.\n",
    "The source for this topic is:\n",
    "* AI-Med internship videos\n",
    "    * session 8"
   ]
  }
 ],
 "metadata": {
  "kernelspec": {
   "display_name": "Python 3",
   "language": "python",
   "name": "python3"
  },
  "language_info": {
   "codemirror_mode": {
    "name": "ipython",
    "version": 3
   },
   "file_extension": ".py",
   "mimetype": "text/x-python",
   "name": "python",
   "nbconvert_exporter": "python",
   "pygments_lexer": "ipython3",
   "version": "3.8.5"
  }
 },
 "nbformat": 4,
 "nbformat_minor": 4
}