{
 "cells": [
  {
   "cell_type": "code",
   "execution_count": null,
   "metadata": {
    "id": "mxagwtTsGnGF"
   },
   "outputs": [],
   "source": [
    "import numpy as np"
   ]
  },
  {
   "cell_type": "markdown",
   "metadata": {
    "id": "ZDgHY0JPJ3z9"
   },
   "source": [
    "1. read array from text\n",
    "2. save as npy\n",
    "3. read from npy"
   ]
  },
  {
   "cell_type": "code",
   "execution_count": null,
   "metadata": {
    "id": "VO4_RCQtxEPn"
   },
   "outputs": [],
   "source": [
    "text_path = 'https://archive.ics.uci.edu/ml/machine-learning-databases/iris/iris.data'"
   ]
  },
  {
   "cell_type": "markdown",
   "metadata": {
    "id": "Aq8b5pPMHOiW"
   },
   "source": [
    "stack an array to matrix vertically and horizontally using hstack and vstack functions"
   ]
  },
  {
   "cell_type": "code",
   "execution_count": null,
   "metadata": {
    "id": "XREuZ15KHTyL"
   },
   "outputs": [],
   "source": [
    "a = np.random.randint(0,100,size=(3,3))\n",
    "b = np.random.randint(0,100,size=(1,3))\n",
    "# horizontal stacking\n",
    "# vertical stacking"
   ]
  },
  {
   "cell_type": "markdown",
   "metadata": {
    "id": "NvCK72vlHbYv"
   },
   "source": [
    "replace items that satisfy a condition with another value"
   ]
  },
  {
   "cell_type": "code",
   "execution_count": null,
   "metadata": {
    "id": "8jDWK9F3Hcw2"
   },
   "outputs": [],
   "source": [
    "a = np.random.randint(0,100,size=(10,10))\n",
    "# items bigger than 20 -> -1"
   ]
  },
  {
   "cell_type": "markdown",
   "metadata": {
    "id": "X6v6gwjiHwkU"
   },
   "source": [
    "get the intersection between two python numpy arrays\n"
   ]
  },
  {
   "cell_type": "code",
   "execution_count": null,
   "metadata": {
    "id": "H6sHSfHYxfQf"
   },
   "outputs": [],
   "source": [
    "a = np.arange(10)\n",
    "b = np.arange(5) * 2\n"
   ]
  },
  {
   "cell_type": "markdown",
   "metadata": {
    "id": "wVCfodgxH5BZ"
   },
   "source": [
    "remove items of an array from another array"
   ]
  },
  {
   "cell_type": "code",
   "execution_count": null,
   "metadata": {
    "id": "PRSgpbHoxf-g"
   },
   "outputs": [],
   "source": [
    "a = np.arange(10)\n",
    "b = np.arange(5) * 2\n"
   ]
  },
  {
   "cell_type": "markdown",
   "metadata": {
    "id": "SeZIR_9xIGqK"
   },
   "source": [
    "extract all elements between a given range"
   ]
  },
  {
   "cell_type": "code",
   "execution_count": null,
   "metadata": {
    "id": "UkO9qd36xgrP"
   },
   "outputs": [],
   "source": [
    "a = np.arange(10)\n",
    "# items between 5 and 10"
   ]
  },
  {
   "cell_type": "markdown",
   "metadata": {
    "id": "HCuUnuPgIZ3z"
   },
   "source": [
    "change columns order in a 2d numpy array"
   ]
  },
  {
   "cell_type": "code",
   "execution_count": null,
   "metadata": {
    "colab": {
     "base_uri": "https://localhost:8080/"
    },
    "id": "9SzZFCLXxhT3",
    "outputId": "b38cab58-99b1-4ea6-fb79-511c282e66b7"
   },
   "outputs": [
    {
     "name": "stdout",
     "output_type": "stream",
     "text": [
      "[[ 0  1  2  3]\n",
      " [ 4  5  6  7]\n",
      " [ 8  9 10 11]]\n",
      "[[ 3  0  1  2]\n",
      " [ 7  4  5  6]\n",
      " [11  8  9 10]]\n"
     ]
    }
   ],
   "source": [
    "a = np.arange(12).reshape((3,4))\n",
    "#new_order of columns 3 , 0 , 1 , 2"
   ]
  },
  {
   "cell_type": "markdown",
   "metadata": {
    "id": "AGoVfz3rKzSS"
   },
   "source": [
    "count elements"
   ]
  },
  {
   "cell_type": "code",
   "execution_count": null,
   "metadata": {
    "id": "MPv9Bfiexi0e"
   },
   "outputs": [],
   "source": [
    "a = np.random.randint(0,100,size=(100,100)) \n",
    "#count of each element"
   ]
  },
  {
   "cell_type": "markdown",
   "metadata": {
    "id": "6I_2ofsyLDwM"
   },
   "source": [
    "sort by column"
   ]
  },
  {
   "cell_type": "code",
   "execution_count": null,
   "metadata": {
    "id": "r4DVtEVQxjRu"
   },
   "outputs": [],
   "source": [
    "a = np.random.randint(0,100,size=(10,10))\n",
    "# sort based on column 3"
   ]
  },
  {
   "cell_type": "markdown",
   "metadata": {
    "id": "Yg-H7qbgLUiq"
   },
   "source": [
    "generate one hot encoding"
   ]
  },
  {
   "cell_type": "code",
   "execution_count": null,
   "metadata": {
    "id": "Q4DHr86Cxjzq"
   },
   "outputs": [],
   "source": [
    "a = np.random.randint(0,100,size=(10,10))\n",
    "# one hot of array"
   ]
  },
  {
   "cell_type": "markdown",
   "metadata": {
    "id": "_oPNReOXRFC-"
   },
   "source": [
    "numpy broadcasting"
   ]
  },
  {
   "cell_type": "code",
   "execution_count": null,
   "metadata": {
    "id": "JZAbmgfyxkoH"
   },
   "outputs": [],
   "source": [
    "#explain broadcasting with example"
   ]
  },
  {
   "cell_type": "markdown",
   "metadata": {
    "id": "sg5HaH88KOmt"
   },
   "source": [
    "arithmetic operation"
   ]
  },
  {
   "cell_type": "code",
   "execution_count": null,
   "metadata": {
    "id": "eZUbTr3cxlMr"
   },
   "outputs": [],
   "source": [
    "a = np.random.randint(0,100,size=(10,10))\n",
    "b = np.random.randint(1,100,size=(10,10))\n",
    "# elementwise sum , subtract , multiply and devide"
   ]
  },
  {
   "cell_type": "markdown",
   "metadata": {
    "id": "F737U7-wMrzy"
   },
   "source": [
    "max values of columns"
   ]
  },
  {
   "cell_type": "code",
   "execution_count": null,
   "metadata": {
    "id": "LT4D4yjwxl5i"
   },
   "outputs": [],
   "source": [
    "a = np.random.randint(0,100,size=(10,10))\n",
    "#max of each column in an array"
   ]
  },
  {
   "cell_type": "markdown",
   "metadata": {
    "id": "5ml1jabtKASF"
   },
   "source": [
    "check array similarity using allclose function"
   ]
  },
  {
   "cell_type": "code",
   "execution_count": null,
   "metadata": {
    "id": "2SwYmQYYxmkk"
   },
   "outputs": [],
   "source": [
    "a = np.random.randint(0,100,size=(10,10))\n",
    "b = a + np.random.rand(10,10) * 1e-6\n",
    "# if two matrix have closer values than a threshold return true  "
   ]
  },
  {
   "cell_type": "markdown",
   "metadata": {
    "id": "EWuqFYubKR1C"
   },
   "source": [
    "matrix multiplication"
   ]
  },
  {
   "cell_type": "code",
   "execution_count": null,
   "metadata": {
    "id": "Qu6RODaCxnQ3"
   },
   "outputs": [],
   "source": [
    "a = np.random.randint(0,100,size=(6,8))\n",
    "b = np.random.randint(0,100,size=(8,10))\n",
    "# return A x B and it's shape"
   ]
  },
  {
   "cell_type": "markdown",
   "metadata": {
    "id": "8_-UxF3uR4PB"
   },
   "source": [
    "compute rank of matrix using numpy.linalg"
   ]
  },
  {
   "cell_type": "code",
   "execution_count": null,
   "metadata": {
    "id": "RlnPrkimR3ea"
   },
   "outputs": [],
   "source": [
    "a = np.random.randint(0,100,size=(6,8))\n"
   ]
  },
  {
   "cell_type": "markdown",
   "metadata": {
    "id": "RikohpbBSFur"
   },
   "source": [
    "compute matrix norm using numpy.linalg"
   ]
  },
  {
   "cell_type": "code",
   "execution_count": null,
   "metadata": {
    "id": "8yT0hbN1USKS"
   },
   "outputs": [],
   "source": [
    "a = np.random.randint(0,100,size=(6,8))"
   ]
  },
  {
   "cell_type": "markdown",
   "metadata": {
    "id": "gAMimwjvTgya"
   },
   "source": [
    "compute matrix inverse using numpy.linalg"
   ]
  },
  {
   "cell_type": "code",
   "execution_count": null,
   "metadata": {
    "id": "kSPatz7nUrGh"
   },
   "outputs": [],
   "source": [
    "a = np.random.randint(0,100,size=(8,8))"
   ]
  }
 ],
 "metadata": {
  "colab": {
   "collapsed_sections": [],
   "name": "numpy.ipynb",
   "provenance": []
  },
  "kernelspec": {
   "display_name": "Python 3",
   "language": "python",
   "name": "python3"
  },
  "language_info": {
   "codemirror_mode": {
    "name": "ipython",
    "version": 3
   },
   "file_extension": ".py",
   "mimetype": "text/x-python",
   "name": "python",
   "nbconvert_exporter": "python",
   "pygments_lexer": "ipython3",
   "version": "3.8.5"
  }
 },
 "nbformat": 4,
 "nbformat_minor": 1
}
