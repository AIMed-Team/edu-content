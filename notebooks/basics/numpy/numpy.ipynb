{
 "nbformat": 4,
 "nbformat_minor": 0,
 "metadata": {
  "colab": {
   "name": "numpy.ipynb",
   "provenance": [],
   "collapsed_sections": []
  },
  "kernelspec": {
   "name": "python3",
   "display_name": "Python 3"
  },
  "language_info": {
   "name": "python"
  }
 },
 "cells": [
  {
   "cell_type": "code",
   "execution_count": null,
   "metadata": {
    "id": "mxagwtTsGnGF"
   },
   "outputs": [],
   "source": [
    "import numpy as np"
   ]
  },
  {
   "cell_type": "markdown",
   "source": [
    "1. read array from text\n",
    "2. save as npy\n",
    "3. read from npy"
   ],
   "metadata": {
    "id": "ZDgHY0JPJ3z9"
   }
  },
  {
   "cell_type": "code",
   "source": [
    "text_path = 'https://archive.ics.uci.edu/ml/machine-learning-databases/iris/iris.data'"
   ],
   "metadata": {
    "id": "VO4_RCQtxEPn"
   },
   "execution_count": null,
   "outputs": []
  },
  {
   "cell_type": "markdown",
   "source": [
    "stack an array to matrix vertically and horizontally using hstack and vstack functions"
   ],
   "metadata": {
    "id": "Aq8b5pPMHOiW"
   }
  },
  {
   "cell_type": "code",
   "source": [
    "a = np.random.randint(0,100,size=(3,3))\n",
    "b = np.random.randint(0,100,size=(1,3))\n",
    "# horizontal stacking\n",
    "# vertical stacking"
   ],
   "metadata": {
    "id": "XREuZ15KHTyL"
   },
   "execution_count": null,
   "outputs": []
  },
  {
   "cell_type": "markdown",
   "source": [
    "replace items that satisfy a condition with another value"
   ],
   "metadata": {
    "id": "NvCK72vlHbYv"
   }
  },
  {
   "cell_type": "code",
   "source": [
    "a = np.random.randint(0,100,size=(10,10))\n",
    "# items bigger than 20 -> -1"
   ],
   "metadata": {
    "id": "8jDWK9F3Hcw2"
   },
   "execution_count": null,
   "outputs": []
  },
  {
   "cell_type": "markdown",
   "source": [
    "get the intersection between two python numpy arrays\n"
   ],
   "metadata": {
    "id": "X6v6gwjiHwkU"
   }
  },
  {
   "cell_type": "code",
   "source": [
    "a = np.arange(10)\n",
    "b = np.arange(5) * 2\n"
   ],
   "metadata": {
    "id": "H6sHSfHYxfQf"
   },
   "execution_count": null,
   "outputs": []
  },
  {
   "cell_type": "markdown",
   "source": [
    "remove items of an array from another array"
   ],
   "metadata": {
    "id": "wVCfodgxH5BZ"
   }
  },
  {
   "cell_type": "code",
   "source": [
    "a = np.arange(10)\n",
    "b = np.arange(5) * 2\n"
   ],
   "metadata": {
    "id": "PRSgpbHoxf-g"
   },
   "execution_count": null,
   "outputs": []
  },
  {
   "cell_type": "markdown",
   "source": [
    "extract all elements between a given range"
   ],
   "metadata": {
    "id": "SeZIR_9xIGqK"
   }
  },
  {
   "cell_type": "code",
   "source": [
    "a = np.arange(10)\n",
    "# items between 5 and 10"
   ],
   "metadata": {
    "id": "UkO9qd36xgrP"
   },
   "execution_count": null,
   "outputs": []
  },
  {
   "cell_type": "markdown",
   "source": [
    "change columns order in a 2d numpy array"
   ],
   "metadata": {
    "id": "HCuUnuPgIZ3z"
   }
  },
  {
   "cell_type": "code",
   "source": [
    "a = np.arange(12).reshape((3,4))\n",
    "#new_order of columns 3 , 0 , 1 , 2"
   ],
   "metadata": {
    "id": "9SzZFCLXxhT3",
    "colab": {
     "base_uri": "https://localhost:8080/"
    },
    "outputId": "b38cab58-99b1-4ea6-fb79-511c282e66b7"
   },
   "execution_count": null,
   "outputs": [
    {
     "output_type": "stream",
     "name": "stdout",
     "text": [
      "[[ 0  1  2  3]\n",
      " [ 4  5  6  7]\n",
      " [ 8  9 10 11]]\n",
      "[[ 3  0  1  2]\n",
      " [ 7  4  5  6]\n",
      " [11  8  9 10]]\n"
     ]
    }
   ]
  },
  {
   "cell_type": "markdown",
   "source": [
    "count elements"
   ],
   "metadata": {
    "id": "AGoVfz3rKzSS"
   }
  },
  {
   "cell_type": "code",
   "source": [
    "a = np.random.randint(0,100,size=(100,100)) \n",
    "#count of each element"
   ],
   "metadata": {
    "id": "MPv9Bfiexi0e"
   },
   "execution_count": null,
   "outputs": []
  },
  {
   "cell_type": "markdown",
   "source": [
    "sort by column"
   ],
   "metadata": {
    "id": "6I_2ofsyLDwM"
   }
  },
  {
   "cell_type": "code",
   "source": [
    "a = np.random.randint(0,100,size=(10,10))\n",
    "# sort based on column 3"
   ],
   "metadata": {
    "id": "r4DVtEVQxjRu"
   },
   "execution_count": null,
   "outputs": []
  },
  {
   "cell_type": "markdown",
   "source": [
    "generate one hot encoding"
   ],
   "metadata": {
    "id": "Yg-H7qbgLUiq"
   }
  },
  {
   "cell_type": "code",
   "source": [
    "a = np.random.randint(0,100,size=(10,10))\n",
    "# one hot of array"
   ],
   "metadata": {
    "id": "Q4DHr86Cxjzq"
   },
   "execution_count": null,
   "outputs": []
  },
  {
   "cell_type": "markdown",
   "source": [
    "numpy broadcasting . we have two arrays with shape [a] and [b]. we want to compute distance between each two elements using broadcasting"
   ],
   "metadata": {
    "id": "hq8fNmt3oRfk"
   }
  },
  {
   "cell_type": "code",
   "source": [
    "a = np.random.randint(0,10,size=(7))\n",
    "b = np.random.randint(0,10,size=(5))\n",
    "# your code here"
   ],
   "metadata": {
    "id": "jrNX-PbpoRgA"
   },
   "execution_count": null,
   "outputs": []
  },
  {
   "cell_type": "markdown",
   "source": [
    "arithmetic operation"
   ],
   "metadata": {
    "id": "sg5HaH88KOmt"
   }
  },
  {
   "cell_type": "code",
   "source": [
    "a = np.random.randint(0,100,size=(10,10))\n",
    "b = np.random.randint(1,100,size=(10,10))\n",
    "# elementwise sum , subtract , multiply and devide"
   ],
   "metadata": {
    "id": "eZUbTr3cxlMr"
   },
   "execution_count": null,
   "outputs": []
  },
  {
   "cell_type": "markdown",
   "source": [
    "max values of columns"
   ],
   "metadata": {
    "id": "F737U7-wMrzy"
   }
  },
  {
   "cell_type": "code",
   "source": [
    "a = np.random.randint(0,100,size=(10,10))\n",
    "#max of each column in an array"
   ],
   "metadata": {
    "id": "LT4D4yjwxl5i"
   },
   "execution_count": null,
   "outputs": []
  },
  {
   "cell_type": "markdown",
   "source": [
    "check array similarity using allclose function"
   ],
   "metadata": {
    "id": "5ml1jabtKASF"
   }
  },
  {
   "cell_type": "code",
   "source": [
    "a = np.random.randint(0,100,size=(10,10))\n",
    "b = a + np.random.rand(10,10) * 1e-6\n",
    "# if two matrix have closer values than a threshold return true  "
   ],
   "metadata": {
    "id": "2SwYmQYYxmkk"
   },
   "execution_count": null,
   "outputs": []
  },
  {
   "cell_type": "markdown",
   "source": [
    "matrix multiplication"
   ],
   "metadata": {
    "id": "EWuqFYubKR1C"
   }
  },
  {
   "cell_type": "code",
   "source": [
    "a = np.random.randint(0,100,size=(6,8))\n",
    "b = np.random.randint(0,100,size=(8,10))\n",
    "# return A x B and it's shape"
   ],
   "metadata": {
    "id": "Qu6RODaCxnQ3"
   },
   "execution_count": null,
   "outputs": []
  },
  {
   "cell_type": "markdown",
   "source": [
    "compute rank of matrix using numpy.linalg"
   ],
   "metadata": {
    "id": "8_-UxF3uR4PB"
   }
  },
  {
   "cell_type": "code",
   "source": [
    "a = np.random.randint(0,100,size=(6,8))\n"
   ],
   "metadata": {
    "id": "RlnPrkimR3ea"
   },
   "execution_count": null,
   "outputs": []
  },
  {
   "cell_type": "markdown",
   "source": [
    "compute matrix norm using numpy.linalg"
   ],
   "metadata": {
    "id": "RikohpbBSFur"
   }
  },
  {
   "cell_type": "code",
   "source": [
    "a = np.random.randint(0,100,size=(6,8))"
   ],
   "metadata": {
    "id": "8yT0hbN1USKS"
   },
   "execution_count": null,
   "outputs": []
  },
  {
   "cell_type": "markdown",
   "source": [
    "compute matrix inverse using numpy.linalg"
   ],
   "metadata": {
    "id": "gAMimwjvTgya"
   }
  },
  {
   "cell_type": "code",
   "source": [
    "a = np.random.randint(0,100,size=(8,8))"
   ],
   "metadata": {
    "id": "kSPatz7nUrGh"
   },
   "execution_count": null,
   "outputs": []
  }
 ]
}