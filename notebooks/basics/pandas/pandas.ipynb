{
  "nbformat": 4,
  "nbformat_minor": 0,
  "metadata": {
    "colab": {
      "name": "pandas.ipynb",
      "provenance": [],
      "collapsed_sections": []
    },
    "kernelspec": {
      "name": "python3",
      "display_name": "Python 3"
    },
    "language_info": {
      "name": "python"
    }
  },
  "cells": [
    {
      "cell_type": "code",
      "source": [
        "import pandas as pd\n",
        "import numpy as np"
      ],
      "metadata": {
        "id": "ICSDw1rixNf0"
      },
      "execution_count": null,
      "outputs": []
    },
    {
      "cell_type": "markdown",
      "source": [
        "read csv file and print first five samples"
      ],
      "metadata": {
        "id": "RLjXHRJQVi9W"
      }
    },
    {
      "cell_type": "code",
      "source": [
        "dataset_path = 'https://datahub.io/machine-learning/iris/r/iris.csv' "
      ],
      "metadata": {
        "id": "foO6DonhwhtU"
      },
      "execution_count": null,
      "outputs": []
    },
    {
      "cell_type": "markdown",
      "source": [
        "sort based on petalwidth and petallength"
      ],
      "metadata": {
        "id": "0uYvv6tuTnu_"
      }
    },
    {
      "cell_type": "code",
      "source": [
        "# sort by petalwidth and petal length "
      ],
      "metadata": {
        "id": "FzepSvXfwinE"
      },
      "execution_count": null,
      "outputs": []
    },
    {
      "cell_type": "markdown",
      "source": [
        "convert data to ranks of each value"
      ],
      "metadata": {
        "id": "ZPyw1KaATree"
      }
    },
    {
      "cell_type": "code",
      "source": [
        ""
      ],
      "metadata": {
        "id": "tPq6OGjvwkrB"
      },
      "execution_count": null,
      "outputs": []
    },
    {
      "cell_type": "markdown",
      "source": [
        "select sepallength of first five samples"
      ],
      "metadata": {
        "id": "OQD2PNANVsg3"
      }
    },
    {
      "cell_type": "code",
      "source": [
        ""
      ],
      "metadata": {
        "id": "-BuKJo2rwlqZ"
      },
      "execution_count": null,
      "outputs": []
    },
    {
      "cell_type": "markdown",
      "source": [
        "group by: get mean of each class using groupby function"
      ],
      "metadata": {
        "id": "4XNHfsNuV_fT"
      }
    },
    {
      "cell_type": "code",
      "source": [
        ""
      ],
      "metadata": {
        "id": "CIe84S03wmNs"
      },
      "execution_count": null,
      "outputs": []
    },
    {
      "cell_type": "markdown",
      "source": [
        "save first ten rows to a csv file "
      ],
      "metadata": {
        "id": "5KH3898zWKLY"
      }
    },
    {
      "cell_type": "code",
      "source": [
        ""
      ],
      "metadata": {
        "id": "GUmQAdbBwnYH"
      },
      "execution_count": null,
      "outputs": []
    },
    {
      "cell_type": "markdown",
      "source": [
        "describe overview of dataset main details using describe function"
      ],
      "metadata": {
        "id": "UgjuFCmGlDDh"
      }
    },
    {
      "cell_type": "code",
      "source": [
        ""
      ],
      "metadata": {
        "id": "NEJszkNJkyQL"
      },
      "execution_count": null,
      "outputs": []
    },
    {
      "cell_type": "markdown",
      "source": [
        "find memory usage of each column"
      ],
      "metadata": {
        "id": "19DpOiUilsgH"
      }
    },
    {
      "cell_type": "code",
      "source": [
        ""
      ],
      "metadata": {
        "id": "sHmatj5FlhjK"
      },
      "execution_count": null,
      "outputs": []
    },
    {
      "cell_type": "markdown",
      "source": [
        "convert type of sepalwidth to int"
      ],
      "metadata": {
        "id": "Hj6jaayRl_4T"
      }
    },
    {
      "cell_type": "code",
      "source": [
        ""
      ],
      "metadata": {
        "id": "ptRtvttGmS1F"
      },
      "execution_count": null,
      "outputs": []
    },
    {
      "cell_type": "markdown",
      "source": [
        "count values of petalwidth"
      ],
      "metadata": {
        "id": "YpFF_wb3nAu4"
      }
    },
    {
      "cell_type": "code",
      "source": [
        ""
      ],
      "metadata": {
        "id": "L3ZUoigXnALp"
      },
      "execution_count": null,
      "outputs": []
    },
    {
      "cell_type": "markdown",
      "source": [
        "merge two dataframes outer join"
      ],
      "metadata": {
        "id": "X0d7TJWant7q"
      }
    },
    {
      "cell_type": "code",
      "source": [
        ""
      ],
      "metadata": {
        "id": "vtZsmDRrnvUf"
      },
      "execution_count": null,
      "outputs": []
    }
  ]
}