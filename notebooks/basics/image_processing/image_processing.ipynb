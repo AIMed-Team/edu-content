{
  "cells": [
    {
      "cell_type": "code",
      "execution_count": null,
      "metadata": {
        "id": "8LXWkLcNcibu"
      },
      "outputs": [],
      "source": [
        "import numpy as np\n",
        "from PIL import Image\n",
        "import imageio\n",
        "import skimage\n",
        "import matplotlib.pyplot as plt\n",
        "from skimage.transform import rotate,resize"
      ]
    },
    {
      "cell_type": "markdown",
      "metadata": {
        "id": "ior1MN74PhMn"
      },
      "source": [
        "1. read image from path\n",
        "\n",
        "2. convert it to grayscale image\n",
        "\n",
        "3. plot image\n",
        "\n",
        "4. write image to a png file"
      ]
    },
    {
      "cell_type": "code",
      "execution_count": null,
      "metadata": {
        "id": "_6mrHFN-QeIf"
      },
      "outputs": [],
      "source": [
        "path = 'https://upload.wikimedia.org/wikipedia/en/thumb/7/7d/Lenna_%28test_image%29.png/440px-Lenna_%28test_image%29.png'"
      ]
    },
    {
      "cell_type": "markdown",
      "metadata": {
        "id": "W_L7Yt3_PoDq"
      },
      "source": [
        "plot histogram of gray scaled image"
      ]
    },
    {
      "cell_type": "code",
      "execution_count": null,
      "metadata": {
        "id": "a38MYZeFQdqm"
      },
      "outputs": [],
      "source": []
    },
    {
      "cell_type": "markdown",
      "metadata": {
        "id": "2Pkzf1wHPoHv"
      },
      "source": [
        "rotate image 60 degrees"
      ]
    },
    {
      "cell_type": "code",
      "execution_count": null,
      "metadata": {
        "id": "wkVEyGklQdOU"
      },
      "outputs": [],
      "source": []
    },
    {
      "cell_type": "markdown",
      "metadata": {
        "id": "IHGQ9vMEPoL4"
      },
      "source": [
        "resize images to 600x600 and show both images"
      ]
    },
    {
      "cell_type": "code",
      "execution_count": null,
      "metadata": {
        "id": "thumXmcTQciV"
      },
      "outputs": [],
      "source": [
        "\n"
      ]
    },
    {
      "attachments": {},
      "cell_type": "markdown",
      "metadata": {},
      "source": [
        "How many coins are inside image? Use skimage's measure module :)"
      ]
    },
    {
      "cell_type": "code",
      "execution_count": null,
      "metadata": {},
      "outputs": [],
      "source": [
        "from skimage import measure\n",
        "\n",
        "coins_path = 'https://media.imna.ir/d/2018/09/29/3/1530690.jpg'\n",
        "np_image = imageio.imread(coins_path)\n",
        "# your code "
      ]
    },
    {
      "cell_type": "markdown",
      "metadata": {
        "id": "vW2-oz-9ucj6"
      },
      "source": [
        "use deeplake module to download required files for the following tasks"
      ]
    },
    {
      "cell_type": "code",
      "execution_count": null,
      "metadata": {
        "id": "WVVRPXADucj7"
      },
      "outputs": [],
      "source": [
        "! pip install deeplake"
      ]
    },
    {
      "cell_type": "code",
      "execution_count": null,
      "metadata": {
        "id": "IhLy6qn8ucj7"
      },
      "outputs": [],
      "source": [
        "import deeplake\n",
        "ds = deeplake.load(\"hub://activeloop/cifar100-test\")"
      ]
    },
    {
      "cell_type": "markdown",
      "metadata": {
        "id": "iy2VcsiDucj7"
      },
      "source": [
        "1. read 10000 images of this dataset randomly from test images and save them as png files using a for loop. measure time needed to read and save them.\n",
        "2. Use python multithreading to read and save these files and measure the process time.\n",
        "3. Use python multiprocessing to read and save these files and measure the process time."
      ]
    },
    {
      "cell_type": "code",
      "execution_count": null,
      "metadata": {
        "id": "5yG05pCNucj8"
      },
      "outputs": [],
      "source": [
        "from typing import Callable\n",
        "from datetime import datetime\n",
        "from PIL import Image\n",
        "import os\n",
        "\n",
        "saving_address = \"~/images_cifar100\"\n",
        "os.makedirs(saving_address , exist_ok=True)\n",
        "def timeit(function:Callable):\n",
        "    first_time = datetime.now()\n",
        "    function()\n",
        "    last_time = datetime.now()\n",
        "    print(f\"process took {(last_time - first_time).total_seconds()} seconds.\")\n",
        "    return\n",
        "def save_image(index):\n",
        "    image = ds.images[index].numpy()\n",
        "    Image.fromarray(image).save(f\"{saving_address}/{index}.png\")"
      ]
    },
    {
      "cell_type": "code",
      "execution_count": null,
      "metadata": {
        "id": "A08xJ47Qucj8",
        "outputId": "a11d56d6-7ad7-4530-c9cb-6dd4834a0e12"
      },
      "outputs": [
        {
          "name": "stdout",
          "output_type": "stream",
          "text": [
            "process took 0.949402 seconds.\n"
          ]
        }
      ],
      "source": [
        "import random\n",
        "def save_loop():\n",
        "    # your code here!\n",
        "    return\n",
        "timeit(save_loop)"
      ]
    },
    {
      "cell_type": "code",
      "execution_count": null,
      "metadata": {
        "id": "MxRBmqf3ucj-",
        "outputId": "3d253dd5-4ed0-4e9b-b2f8-2813533863ba"
      },
      "outputs": [
        {
          "name": "stdout",
          "output_type": "stream",
          "text": [
            "process took 0.258296 seconds.\n"
          ]
        }
      ],
      "source": [
        "import random\n",
        "from multiprocessing import Pool\n",
        "\n",
        "def save_multiprocessing():\n",
        "    # your code here!\n",
        "    return\n",
        "timeit(save_multiprocessing)"
      ]
    },
    {
      "cell_type": "code",
      "execution_count": null,
      "metadata": {
        "id": "1aWJ8uIiucj-",
        "outputId": "0116de81-496e-474f-92f3-a76c4d05e1d6"
      },
      "outputs": [
        {
          "name": "stdout",
          "output_type": "stream",
          "text": [
            "process took 0.990368 seconds.\n"
          ]
        }
      ],
      "source": [
        "import random\n",
        "from multiprocessing.pool import ThreadPool\n",
        "def save_multithreading():\n",
        "    # your code here!\n",
        "    return\n",
        "timeit(save_multithreading)"
      ]
    },
    {
      "cell_type": "markdown",
      "metadata": {
        "id": "kg3Gc2fkucj-"
      },
      "source": [
        "1. read 600 images of this dataset randomly from test images and blur them two times with kernel sizes (3,3) , (5,5) using a for loop. measure time needed to read and save them.\n",
        "2. Use python multithreading to read and process these images and measure the process time.\n",
        "3. Use python multiprocessing to read and process these images and measure the process time."
      ]
    },
    {
      "cell_type": "code",
      "execution_count": null,
      "metadata": {
        "id": "E9j-x4oZucj_"
      },
      "outputs": [],
      "source": [
        "import cv2"
      ]
    },
    {
      "cell_type": "code",
      "execution_count": null,
      "metadata": {
        "id": "X_atuBTRucj_",
        "outputId": "58fbd04c-75f4-4b85-d930-4acd4cbde365"
      },
      "outputs": [
        {
          "name": "stdout",
          "output_type": "stream",
          "text": [
            "process took 41.299255 seconds.\n"
          ]
        }
      ],
      "source": [
        "import random\n",
        "def save_loop():\n",
        "    # your code here!\n",
        "    return\n",
        "timeit(save_loop)"
      ]
    },
    {
      "cell_type": "code",
      "execution_count": null,
      "metadata": {
        "id": "5VC8wxbpuckA",
        "outputId": "d9957064-1cf5-45bd-b769-cb0b17c4b1e1"
      },
      "outputs": [
        {
          "name": "stdout",
          "output_type": "stream",
          "text": [
            "process took 16.460644 seconds.\n"
          ]
        }
      ],
      "source": [
        "import random\n",
        "from multiprocessing import Pool\n",
        "\n",
        "def save_multiprocessing():\n",
        "    # your code here!\n",
        "    return\n",
        "timeit(save_multiprocessing)"
      ]
    },
    {
      "cell_type": "code",
      "execution_count": null,
      "metadata": {
        "id": "KncC0xouuckA",
        "outputId": "2f6a43b2-2519-4181-a5e7-3ca7f784d9b4"
      },
      "outputs": [
        {
          "name": "stdout",
          "output_type": "stream",
          "text": [
            "process took 17.336391 seconds.\n"
          ]
        }
      ],
      "source": [
        "import random\n",
        "from multiprocessing.pool import ThreadPool\n",
        "def save_multithreading():\n",
        "    # your code here!\n",
        "    return\n",
        "timeit(save_multithreading)"
      ]
    },
    {
      "cell_type": "markdown",
      "metadata": {
        "id": "v-7-3L7EuckA"
      },
      "source": [
        "Where should we use multithreading? What about multiprocessing?"
      ]
    }
  ],
  "metadata": {
    "colab": {
      "provenance": []
    },
    "kernelspec": {
      "display_name": "AIMO38",
      "language": "python",
      "name": "python3"
    },
    "language_info": {
      "name": "python",
      "version": "3.8.13 (default, Mar 28 2022, 11:38:47) \n[GCC 7.5.0]"
    },
    "vscode": {
      "interpreter": {
        "hash": "bcc1ff0980251ae7058ee449bbfb4ee495bd8e69206f5d78d7f92f80a18c9032"
      }
    }
  },
  "nbformat": 4,
  "nbformat_minor": 0
}
