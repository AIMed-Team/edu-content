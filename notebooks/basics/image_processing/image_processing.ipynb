{
  "nbformat": 4,
  "nbformat_minor": 0,
  "metadata": {
    "colab": {
      "name": "image_processing.ipynb",
      "provenance": [],
      "collapsed_sections": []
    },
    "kernelspec": {
      "name": "python3",
      "display_name": "Python 3"
    },
    "language_info": {
      "name": "python"
    }
  },
  "cells": [
    {
      "cell_type": "code",
      "source": [
        "import numpy as np\n",
        "from PIL import Image\n",
        "import imageio\n",
        "import skimage\n",
        "import matplotlib.pyplot as plt\n",
        "from skimage.transform import rotate,resize"
      ],
      "metadata": {
        "id": "8LXWkLcNcibu"
      },
      "execution_count": null,
      "outputs": []
    },
    {
      "cell_type": "markdown",
      "source": [
        "1. read image from path\n",
        "\n",
        "2. convert it to grayscale image\n",
        "\n",
        "3. plot image\n",
        "\n",
        "4. write image to a png file"
      ],
      "metadata": {
        "id": "ior1MN74PhMn"
      }
    },
    {
      "cell_type": "code",
      "source": [
        "path = 'https://upload.wikimedia.org/wikipedia/en/thumb/7/7d/Lenna_%28test_image%29.png/440px-Lenna_%28test_image%29.png'"
      ],
      "metadata": {
        "id": "_6mrHFN-QeIf"
      },
      "execution_count": null,
      "outputs": []
    },
    {
      "cell_type": "markdown",
      "source": [
        "plot histogram of gray scaled image"
      ],
      "metadata": {
        "id": "W_L7Yt3_PoDq"
      }
    },
    {
      "cell_type": "code",
      "source": [
        ""
      ],
      "metadata": {
        "id": "a38MYZeFQdqm"
      },
      "execution_count": null,
      "outputs": []
    },
    {
      "cell_type": "markdown",
      "source": [
        "rotate image 60 degrees"
      ],
      "metadata": {
        "id": "2Pkzf1wHPoHv"
      }
    },
    {
      "cell_type": "code",
      "source": [
        ""
      ],
      "metadata": {
        "id": "wkVEyGklQdOU"
      },
      "execution_count": null,
      "outputs": []
    },
    {
      "cell_type": "markdown",
      "source": [
        "resize images to 600x600 and show both images"
      ],
      "metadata": {
        "id": "IHGQ9vMEPoL4"
      }
    },
    {
      "cell_type": "code",
      "source": [
        "\n"
      ],
      "metadata": {
        "id": "thumXmcTQciV"
      },
      "execution_count": null,
      "outputs": []
    }
  ]
}